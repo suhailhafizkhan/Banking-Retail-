{
 "cells": [
  {
   "cell_type": "markdown",
   "metadata": {},
   "source": [
    "# Predictive Analytics on Banking Retail."
   ]
  },
  {
   "cell_type": "markdown",
   "metadata": {},
   "source": [
    "### Problem Statement :\n",
    "         Term deposits are being implemented in the banks for customers advantages,which will be helpfull for the customers who are in need of immediate cash at a moment.This data set has details of the customers with all features of account balance,credit card holder/not,age,marital status etc with a target variable of yes or no meaning whether he will subscribe for a term deposit or not."
   ]
  },
  {
   "cell_type": "markdown",
   "metadata": {},
   "source": [
    "### Goal :\n",
    "        Our goal is to show how a simple predictive analytics exercise may be carried out on real data using open source statistical modelling software.To demonstrate how the results from a predictive analytics study can be applied to produce real, tangible improvements in a company’s business performance.\n",
    "\n"
   ]
  },
  {
   "cell_type": "markdown",
   "metadata": {},
   "source": [
    "### Product :\n",
    "        An Android application for bank which has both for updating the database and for predicting whether the person will subscribe for a term deposit or not.\n",
    "        A web form with all the required details from nodered and connected through IBM cloud."
   ]
  },
  {
   "cell_type": "markdown",
   "metadata": {},
   "source": [
    "## Exploratory Data Analysis"
   ]
  },
  {
   "cell_type": "markdown",
   "metadata": {},
   "source": [
    "#### Importing libraries"
   ]
  },
  {
   "cell_type": "code",
   "execution_count": 1,
   "metadata": {},
   "outputs": [],
   "source": [
    "import numpy as np\n",
    "import pandas as pd\n",
    "import seaborn as sns\n",
    "import matplotlib.pyplot as plt\n",
    "import warnings\n",
    "warnings.filterwarnings(\"ignore\")"
   ]
  },
  {
   "cell_type": "code",
   "execution_count": 2,
   "metadata": {},
   "outputs": [],
   "source": [
    "df=pd.read_csv(\"bank.csv\")"
   ]
  },
  {
   "cell_type": "code",
   "execution_count": 3,
   "metadata": {},
   "outputs": [
    {
     "data": {
      "text/html": [
       "<div>\n",
       "<style scoped>\n",
       "    .dataframe tbody tr th:only-of-type {\n",
       "        vertical-align: middle;\n",
       "    }\n",
       "\n",
       "    .dataframe tbody tr th {\n",
       "        vertical-align: top;\n",
       "    }\n",
       "\n",
       "    .dataframe thead th {\n",
       "        text-align: right;\n",
       "    }\n",
       "</style>\n",
       "<table border=\"1\" class=\"dataframe\">\n",
       "  <thead>\n",
       "    <tr style=\"text-align: right;\">\n",
       "      <th></th>\n",
       "      <th>age</th>\n",
       "      <th>job</th>\n",
       "      <th>marital</th>\n",
       "      <th>education</th>\n",
       "      <th>default</th>\n",
       "      <th>balance</th>\n",
       "      <th>housing</th>\n",
       "      <th>loan</th>\n",
       "      <th>contact</th>\n",
       "      <th>day</th>\n",
       "      <th>month</th>\n",
       "      <th>duration</th>\n",
       "      <th>campaign</th>\n",
       "      <th>pdays</th>\n",
       "      <th>previous</th>\n",
       "      <th>poutcome</th>\n",
       "      <th>deposit</th>\n",
       "    </tr>\n",
       "  </thead>\n",
       "  <tbody>\n",
       "    <tr>\n",
       "      <th>0</th>\n",
       "      <td>59</td>\n",
       "      <td>admin.</td>\n",
       "      <td>married</td>\n",
       "      <td>secondary</td>\n",
       "      <td>no</td>\n",
       "      <td>2343</td>\n",
       "      <td>yes</td>\n",
       "      <td>no</td>\n",
       "      <td>unknown</td>\n",
       "      <td>5</td>\n",
       "      <td>may</td>\n",
       "      <td>1042</td>\n",
       "      <td>1</td>\n",
       "      <td>-1</td>\n",
       "      <td>0</td>\n",
       "      <td>unknown</td>\n",
       "      <td>yes</td>\n",
       "    </tr>\n",
       "    <tr>\n",
       "      <th>1</th>\n",
       "      <td>56</td>\n",
       "      <td>admin.</td>\n",
       "      <td>married</td>\n",
       "      <td>secondary</td>\n",
       "      <td>no</td>\n",
       "      <td>45</td>\n",
       "      <td>no</td>\n",
       "      <td>no</td>\n",
       "      <td>unknown</td>\n",
       "      <td>5</td>\n",
       "      <td>may</td>\n",
       "      <td>1467</td>\n",
       "      <td>1</td>\n",
       "      <td>-1</td>\n",
       "      <td>0</td>\n",
       "      <td>unknown</td>\n",
       "      <td>yes</td>\n",
       "    </tr>\n",
       "    <tr>\n",
       "      <th>2</th>\n",
       "      <td>41</td>\n",
       "      <td>technician</td>\n",
       "      <td>married</td>\n",
       "      <td>secondary</td>\n",
       "      <td>no</td>\n",
       "      <td>1270</td>\n",
       "      <td>yes</td>\n",
       "      <td>no</td>\n",
       "      <td>unknown</td>\n",
       "      <td>5</td>\n",
       "      <td>may</td>\n",
       "      <td>1389</td>\n",
       "      <td>1</td>\n",
       "      <td>-1</td>\n",
       "      <td>0</td>\n",
       "      <td>unknown</td>\n",
       "      <td>yes</td>\n",
       "    </tr>\n",
       "    <tr>\n",
       "      <th>3</th>\n",
       "      <td>55</td>\n",
       "      <td>services</td>\n",
       "      <td>married</td>\n",
       "      <td>secondary</td>\n",
       "      <td>no</td>\n",
       "      <td>2476</td>\n",
       "      <td>yes</td>\n",
       "      <td>no</td>\n",
       "      <td>unknown</td>\n",
       "      <td>5</td>\n",
       "      <td>may</td>\n",
       "      <td>579</td>\n",
       "      <td>1</td>\n",
       "      <td>-1</td>\n",
       "      <td>0</td>\n",
       "      <td>unknown</td>\n",
       "      <td>yes</td>\n",
       "    </tr>\n",
       "    <tr>\n",
       "      <th>4</th>\n",
       "      <td>54</td>\n",
       "      <td>admin.</td>\n",
       "      <td>married</td>\n",
       "      <td>tertiary</td>\n",
       "      <td>no</td>\n",
       "      <td>184</td>\n",
       "      <td>no</td>\n",
       "      <td>no</td>\n",
       "      <td>unknown</td>\n",
       "      <td>5</td>\n",
       "      <td>may</td>\n",
       "      <td>673</td>\n",
       "      <td>2</td>\n",
       "      <td>-1</td>\n",
       "      <td>0</td>\n",
       "      <td>unknown</td>\n",
       "      <td>yes</td>\n",
       "    </tr>\n",
       "  </tbody>\n",
       "</table>\n",
       "</div>"
      ],
      "text/plain": [
       "   age         job  marital  education default  balance housing loan  contact  \\\n",
       "0   59      admin.  married  secondary      no     2343     yes   no  unknown   \n",
       "1   56      admin.  married  secondary      no       45      no   no  unknown   \n",
       "2   41  technician  married  secondary      no     1270     yes   no  unknown   \n",
       "3   55    services  married  secondary      no     2476     yes   no  unknown   \n",
       "4   54      admin.  married   tertiary      no      184      no   no  unknown   \n",
       "\n",
       "   day month  duration  campaign  pdays  previous poutcome deposit  \n",
       "0    5   may      1042         1     -1         0  unknown     yes  \n",
       "1    5   may      1467         1     -1         0  unknown     yes  \n",
       "2    5   may      1389         1     -1         0  unknown     yes  \n",
       "3    5   may       579         1     -1         0  unknown     yes  \n",
       "4    5   may       673         2     -1         0  unknown     yes  "
      ]
     },
     "execution_count": 3,
     "metadata": {},
     "output_type": "execute_result"
    }
   ],
   "source": [
    "df.head()"
   ]
  },
  {
   "cell_type": "code",
   "execution_count": 4,
   "metadata": {},
   "outputs": [
    {
     "data": {
      "text/plain": [
       "management       2566\n",
       "blue-collar      1944\n",
       "technician       1823\n",
       "admin.           1334\n",
       "services          923\n",
       "retired           778\n",
       "self-employed     405\n",
       "student           360\n",
       "unemployed        357\n",
       "entrepreneur      328\n",
       "housemaid         274\n",
       "unknown            70\n",
       "Name: job, dtype: int64"
      ]
     },
     "execution_count": 4,
     "metadata": {},
     "output_type": "execute_result"
    }
   ],
   "source": [
    "df['job'].value_counts()"
   ]
  },
  {
   "cell_type": "code",
   "execution_count": 5,
   "metadata": {},
   "outputs": [
    {
     "data": {
      "text/plain": [
       "secondary    5476\n",
       "tertiary     3689\n",
       "primary      1500\n",
       "unknown       497\n",
       "Name: education, dtype: int64"
      ]
     },
     "execution_count": 5,
     "metadata": {},
     "output_type": "execute_result"
    }
   ],
   "source": [
    "df['education'].value_counts()"
   ]
  },
  {
   "cell_type": "code",
   "execution_count": 6,
   "metadata": {},
   "outputs": [
    {
     "data": {
      "text/plain": [
       "married     6351\n",
       "single      3518\n",
       "divorced    1293\n",
       "Name: marital, dtype: int64"
      ]
     },
     "execution_count": 6,
     "metadata": {},
     "output_type": "execute_result"
    }
   ],
   "source": [
    "df['marital'].value_counts()"
   ]
  },
  {
   "cell_type": "code",
   "execution_count": 7,
   "metadata": {},
   "outputs": [
    {
     "data": {
      "text/plain": [
       "no     5873\n",
       "yes    5289\n",
       "Name: deposit, dtype: int64"
      ]
     },
     "execution_count": 7,
     "metadata": {},
     "output_type": "execute_result"
    }
   ],
   "source": [
    "df['deposit'].value_counts()"
   ]
  },
  {
   "cell_type": "code",
   "execution_count": 8,
   "metadata": {},
   "outputs": [
    {
     "data": {
      "text/plain": [
       "age          False\n",
       "job          False\n",
       "marital      False\n",
       "education    False\n",
       "default      False\n",
       "balance      False\n",
       "housing      False\n",
       "loan         False\n",
       "contact      False\n",
       "day          False\n",
       "month        False\n",
       "duration     False\n",
       "campaign     False\n",
       "pdays        False\n",
       "previous     False\n",
       "poutcome     False\n",
       "deposit      False\n",
       "dtype: bool"
      ]
     },
     "execution_count": 8,
     "metadata": {},
     "output_type": "execute_result"
    }
   ],
   "source": [
    "df.isnull().any()"
   ]
  },
  {
   "cell_type": "code",
   "execution_count": 9,
   "metadata": {},
   "outputs": [
    {
     "data": {
      "text/plain": [
       "no     10994\n",
       "yes      168\n",
       "Name: default, dtype: int64"
      ]
     },
     "execution_count": 9,
     "metadata": {},
     "output_type": "execute_result"
    }
   ],
   "source": [
    "df['default'].value_counts()"
   ]
  },
  {
   "cell_type": "code",
   "execution_count": 10,
   "metadata": {},
   "outputs": [
    {
     "data": {
      "text/plain": [
       "cellular     8042\n",
       "unknown      2346\n",
       "telephone     774\n",
       "Name: contact, dtype: int64"
      ]
     },
     "execution_count": 10,
     "metadata": {},
     "output_type": "execute_result"
    }
   ],
   "source": [
    "df['contact'].value_counts()"
   ]
  },
  {
   "cell_type": "code",
   "execution_count": 11,
   "metadata": {},
   "outputs": [
    {
     "data": {
      "text/plain": [
       "unknown    8326\n",
       "failure    1228\n",
       "success    1071\n",
       "other       537\n",
       "Name: poutcome, dtype: int64"
      ]
     },
     "execution_count": 11,
     "metadata": {},
     "output_type": "execute_result"
    }
   ],
   "source": [
    "df['poutcome'].value_counts()"
   ]
  },
  {
   "cell_type": "code",
   "execution_count": 12,
   "metadata": {},
   "outputs": [
    {
     "data": {
      "text/plain": [
       "secondary    5476\n",
       "tertiary     3689\n",
       "primary      1500\n",
       "unknown       497\n",
       "Name: education, dtype: int64"
      ]
     },
     "execution_count": 12,
     "metadata": {},
     "output_type": "execute_result"
    }
   ],
   "source": [
    "df['education'].value_counts()"
   ]
  },
  {
   "cell_type": "code",
   "execution_count": 13,
   "metadata": {},
   "outputs": [],
   "source": [
    "cols=['education','poutcome','job','contact']\n",
    "df[cols]=df[cols].replace(\n",
    "{\n",
    "    \"unknown\" : np.NaN\n",
    "}\n",
    ")"
   ]
  },
  {
   "cell_type": "markdown",
   "metadata": {},
   "source": [
    "#### Null value-check"
   ]
  },
  {
   "cell_type": "code",
   "execution_count": 14,
   "metadata": {},
   "outputs": [
    {
     "data": {
      "text/plain": [
       "age          False\n",
       "job           True\n",
       "marital      False\n",
       "education     True\n",
       "default      False\n",
       "balance      False\n",
       "housing      False\n",
       "loan         False\n",
       "contact       True\n",
       "day          False\n",
       "month        False\n",
       "duration     False\n",
       "campaign     False\n",
       "pdays        False\n",
       "previous     False\n",
       "poutcome      True\n",
       "deposit      False\n",
       "dtype: bool"
      ]
     },
     "execution_count": 14,
     "metadata": {},
     "output_type": "execute_result"
    }
   ],
   "source": [
    "df.isnull().any()"
   ]
  },
  {
   "cell_type": "code",
   "execution_count": 15,
   "metadata": {},
   "outputs": [
    {
     "data": {
      "image/png": "[encoded data removed]",
      "text/plain": [
       "<Figure size 432x288 with 1 Axes>"
      ]
     },
     "metadata": {
      "needs_background": "light"
     },
     "output_type": "display_data"
    }
   ],
   "source": [
    "f1=plt.figure()\n",
    "sns.heatmap(df.isnull(),yticklabels=False,cbar=False,cmap='viridis')\n",
    "plt.title(\"Heatmap for Null Values\")\n",
    "f1.savefig(\"p1.png\")\n",
    "plt.show()"
   ]
  },
  {
   "cell_type": "markdown",
   "metadata": {},
   "source": [
    "### Observation :\n",
    "1.We find that poutcome has more than 80% of Null values in the Dataset and We can drop it as we can never get information from poutcome.\n",
    "\n",
    "2.Contact,Education and Job have lesser null values and can be replaced. "
   ]
  },
  {
   "cell_type": "markdown",
   "metadata": {},
   "source": [
    "#### Imputing null values"
   ]
  },
  {
   "cell_type": "code",
   "execution_count": 16,
   "metadata": {},
   "outputs": [],
   "source": [
    "df[\"job\"].fillna(df['job'].mode()[0],inplace=True)"
   ]
  },
  {
   "cell_type": "code",
   "execution_count": 17,
   "metadata": {},
   "outputs": [
    {
     "data": {
      "text/plain": [
       "False"
      ]
     },
     "execution_count": 17,
     "metadata": {},
     "output_type": "execute_result"
    }
   ],
   "source": [
    "df['job'].isnull().any()"
   ]
  },
  {
   "cell_type": "code",
   "execution_count": 18,
   "metadata": {},
   "outputs": [
    {
     "data": {
      "text/plain": [
       "job            education\n",
       "admin.         primary        42\n",
       "               secondary    1084\n",
       "               tertiary      168\n",
       "blue-collar    primary       694\n",
       "               secondary    1116\n",
       "               tertiary       48\n",
       "entrepreneur   primary        41\n",
       "               secondary     141\n",
       "               tertiary      132\n",
       "housemaid      primary       144\n",
       "               secondary      78\n",
       "               tertiary       43\n",
       "management     primary        73\n",
       "               secondary     253\n",
       "               tertiary     2187\n",
       "retired        primary       277\n",
       "               secondary     314\n",
       "               tertiary      140\n",
       "self-employed  primary        28\n",
       "               secondary     136\n",
       "               tertiary      230\n",
       "services       primary        83\n",
       "               secondary     746\n",
       "               tertiary       53\n",
       "student        primary        21\n",
       "               secondary     189\n",
       "               tertiary       83\n",
       "technician     primary        41\n",
       "               secondary    1209\n",
       "               tertiary      521\n",
       "unemployed     primary        56\n",
       "               secondary     210\n",
       "               tertiary       84\n",
       "dtype: int64"
      ]
     },
     "execution_count": 18,
     "metadata": {},
     "output_type": "execute_result"
    }
   ],
   "source": [
    "s=df.groupby(['job','education'])\n",
    "s.size()"
   ]
  },
  {
   "cell_type": "code",
   "execution_count": 19,
   "metadata": {},
   "outputs": [],
   "source": [
    "def impute_a(cols):\n",
    "    job=cols[1]\n",
    "    education=cols[0]\n",
    "    if pd.isnull(education):\n",
    "        if job == \"admin\":\n",
    "            return 'secondary'\n",
    "        elif job == \"blue-collar\":\n",
    "            return 'secondary'\n",
    "        elif job == 'entrepreneur':\n",
    "            return 'secondary'\n",
    "        elif job == 'unemployed':\n",
    "            return 'secondary'\n",
    "        elif job == 'housemaid':\n",
    "            return 'primary'\n",
    "        elif job == 'management':\n",
    "            return 'tertiary'\n",
    "        elif job == 'retired':\n",
    "            return 'secondary'\n",
    "        elif job == 'self-employed':\n",
    "            return 'tertiary'\n",
    "        elif job == 'services':\n",
    "            return 'secondary'\n",
    "        elif job == 'student':\n",
    "            return 'secondary'\n",
    "        elif job == 'technician':\n",
    "            return 'secondary'\n",
    "    else:\n",
    "        return education\n",
    "        "
   ]
  },
  {
   "cell_type": "code",
   "execution_count": 20,
   "metadata": {},
   "outputs": [],
   "source": [
    "df['education']=df[['education','job']].apply(impute_a,axis=1)\n"
   ]
  },
  {
   "cell_type": "code",
   "execution_count": 21,
   "metadata": {},
   "outputs": [
    {
     "data": {
      "text/plain": [
       "40"
      ]
     },
     "execution_count": 21,
     "metadata": {},
     "output_type": "execute_result"
    }
   ],
   "source": [
    "df['education'].isnull().sum()"
   ]
  },
  {
   "cell_type": "code",
   "execution_count": 22,
   "metadata": {},
   "outputs": [],
   "source": [
    "df['education'].fillna(df['education'].mode()[0],inplace=True)"
   ]
  },
  {
   "cell_type": "code",
   "execution_count": 23,
   "metadata": {},
   "outputs": [
    {
     "data": {
      "text/plain": [
       "0"
      ]
     },
     "execution_count": 23,
     "metadata": {},
     "output_type": "execute_result"
    }
   ],
   "source": [
    "df['education'].isnull().sum()"
   ]
  },
  {
   "cell_type": "code",
   "execution_count": 24,
   "metadata": {},
   "outputs": [
    {
     "data": {
      "text/plain": [
       "no     5873\n",
       "yes    5289\n",
       "Name: deposit, dtype: int64"
      ]
     },
     "execution_count": 24,
     "metadata": {},
     "output_type": "execute_result"
    }
   ],
   "source": [
    "df['deposit'].value_counts()"
   ]
  },
  {
   "cell_type": "code",
   "execution_count": 25,
   "metadata": {},
   "outputs": [
    {
     "data": {
      "text/plain": [
       "age                 49\n",
       "job             admin.\n",
       "marital       divorced\n",
       "education    secondary\n",
       "default             no\n",
       "balance            168\n",
       "housing            yes\n",
       "loan               yes\n",
       "contact            NaN\n",
       "day                  8\n",
       "month              may\n",
       "duration           513\n",
       "campaign             1\n",
       "pdays               -1\n",
       "previous             0\n",
       "poutcome           NaN\n",
       "deposit            yes\n",
       "Name: 19, dtype: object"
      ]
     },
     "execution_count": 25,
     "metadata": {},
     "output_type": "execute_result"
    }
   ],
   "source": [
    "df.iloc[19]"
   ]
  },
  {
   "cell_type": "code",
   "execution_count": 26,
   "metadata": {},
   "outputs": [
    {
     "data": {
      "text/plain": [
       "no     5873\n",
       "yes    5289\n",
       "Name: deposit, dtype: int64"
      ]
     },
     "execution_count": 26,
     "metadata": {},
     "output_type": "execute_result"
    }
   ],
   "source": [
    "df['deposit'].value_counts()"
   ]
  },
  {
   "cell_type": "code",
   "execution_count": 27,
   "metadata": {},
   "outputs": [
    {
     "data": {
      "text/plain": [
       "0     8324\n",
       "1      887\n",
       "2      693\n",
       "3      435\n",
       "4      244\n",
       "5      165\n",
       "6      117\n",
       "7       77\n",
       "8       60\n",
       "9       34\n",
       "10      30\n",
       "11      23\n",
       "12      16\n",
       "17      11\n",
       "13      11\n",
       "14       6\n",
       "15       5\n",
       "19       4\n",
       "16       2\n",
       "27       2\n",
       "23       2\n",
       "20       2\n",
       "58       1\n",
       "26       1\n",
       "18       1\n",
       "28       1\n",
       "41       1\n",
       "21       1\n",
       "29       1\n",
       "37       1\n",
       "40       1\n",
       "22       1\n",
       "30       1\n",
       "55       1\n",
       "Name: previous, dtype: int64"
      ]
     },
     "execution_count": 27,
     "metadata": {},
     "output_type": "execute_result"
    }
   ],
   "source": [
    "df['previous'].value_counts()"
   ]
  },
  {
   "cell_type": "code",
   "execution_count": 28,
   "metadata": {},
   "outputs": [
    {
     "data": {
      "text/plain": [
       "1     4798\n",
       "2     3028\n",
       "3     1321\n",
       "4      771\n",
       "5      378\n",
       "6      265\n",
       "7      139\n",
       "8      128\n",
       "9       72\n",
       "10      52\n",
       "11      40\n",
       "13      30\n",
       "12      29\n",
       "14      15\n",
       "17      14\n",
       "15      13\n",
       "16       9\n",
       "18       8\n",
       "21       8\n",
       "24       5\n",
       "19       5\n",
       "20       5\n",
       "30       4\n",
       "22       4\n",
       "26       3\n",
       "23       3\n",
       "25       3\n",
       "43       2\n",
       "29       2\n",
       "32       2\n",
       "63       1\n",
       "33       1\n",
       "41       1\n",
       "31       1\n",
       "28       1\n",
       "27       1\n",
       "Name: campaign, dtype: int64"
      ]
     },
     "execution_count": 28,
     "metadata": {},
     "output_type": "execute_result"
    }
   ],
   "source": [
    "df['campaign'].value_counts()"
   ]
  },
  {
   "cell_type": "code",
   "execution_count": 29,
   "metadata": {},
   "outputs": [
    {
     "data": {
      "text/plain": [
       "campaign  contact  \n",
       "1         cellular     3540\n",
       "          telephone     293\n",
       "2         cellular     2218\n",
       "          telephone     190\n",
       "3         cellular      912\n",
       "          telephone      93\n",
       "4         cellular      556\n",
       "          telephone      64\n",
       "5         cellular      264\n",
       "          telephone      36\n",
       "6         cellular      190\n",
       "          telephone      28\n",
       "7         cellular       90\n",
       "          telephone      19\n",
       "8         cellular       86\n",
       "          telephone      16\n",
       "9         cellular       34\n",
       "          telephone      11\n",
       "10        cellular       31\n",
       "          telephone       4\n",
       "11        cellular       22\n",
       "          telephone       3\n",
       "12        cellular       18\n",
       "          telephone       2\n",
       "13        cellular       21\n",
       "          telephone       3\n",
       "14        cellular       10\n",
       "          telephone       1\n",
       "15        cellular        5\n",
       "          telephone       1\n",
       "16        cellular        6\n",
       "          telephone       1\n",
       "17        cellular        7\n",
       "          telephone       3\n",
       "18        cellular        2\n",
       "19        cellular        3\n",
       "          telephone       1\n",
       "20        cellular        4\n",
       "21        cellular        5\n",
       "          telephone       2\n",
       "22        cellular        4\n",
       "23        cellular        1\n",
       "24        cellular        3\n",
       "          telephone       1\n",
       "25        cellular        1\n",
       "          telephone       1\n",
       "26        cellular        1\n",
       "27        cellular        1\n",
       "29        cellular        1\n",
       "30        cellular        3\n",
       "31        cellular        1\n",
       "33        cellular        1\n",
       "43        cellular        1\n",
       "          telephone       1\n",
       "dtype: int64"
      ]
     },
     "execution_count": 29,
     "metadata": {},
     "output_type": "execute_result"
    }
   ],
   "source": [
    "s1=df.groupby(['campaign','contact'])\n",
    "s1.size()"
   ]
  },
  {
   "cell_type": "code",
   "execution_count": 30,
   "metadata": {},
   "outputs": [],
   "source": [
    "df['contact'].fillna(df['contact'].mode()[0],inplace=True)"
   ]
  },
  {
   "cell_type": "code",
   "execution_count": 31,
   "metadata": {},
   "outputs": [
    {
     "data": {
      "text/plain": [
       "age          False\n",
       "job          False\n",
       "marital      False\n",
       "education    False\n",
       "default      False\n",
       "balance      False\n",
       "housing      False\n",
       "loan         False\n",
       "contact      False\n",
       "day          False\n",
       "month        False\n",
       "duration     False\n",
       "campaign     False\n",
       "pdays        False\n",
       "previous     False\n",
       "poutcome      True\n",
       "deposit      False\n",
       "dtype: bool"
      ]
     },
     "execution_count": 31,
     "metadata": {},
     "output_type": "execute_result"
    }
   ],
   "source": [
    "df.isnull().any()"
   ]
  },
  {
   "cell_type": "code",
   "execution_count": 32,
   "metadata": {},
   "outputs": [
    {
     "data": {
      "image/png": "[encoded data removed]",
      "text/plain": [
       "<Figure size 432x288 with 1 Axes>"
      ]
     },
     "metadata": {
      "needs_background": "light"
     },
     "output_type": "display_data"
    }
   ],
   "source": [
    "p2=plt.figure()\n",
    "sns.heatmap(df.isnull(),cbar=False,cmap='viridis',yticklabels=False)\n",
    "plt.title(\"Heatmap after null values changed for Job,Education,contact\")\n",
    "p2.savefig(\"p2.png\")\n",
    "plt.show()"
   ]
  },
  {
   "cell_type": "markdown",
   "metadata": {},
   "source": [
    "#### Distribution  for 'deposit' with respect to other continous data."
   ]
  },
  {
   "cell_type": "code",
   "execution_count": 33,
   "metadata": {},
   "outputs": [],
   "source": [
    "yesss=df.loc[df[\"deposit\"] == 'yes']\n",
    "nooo=df.loc[df[\"deposit\"] == 'no']\n"
   ]
  },
  {
   "cell_type": "code",
   "execution_count": 34,
   "metadata": {},
   "outputs": [
    {
     "data": {
      "text/plain": [
       "<Figure size 432x288 with 0 Axes>"
      ]
     },
     "metadata": {},
     "output_type": "display_data"
    },
    {
     "data": {
      "image/png": "[encoded data removed]",
      "text/plain": [
       "<Figure size 413.25x360 with 1 Axes>"
      ]
     },
     "metadata": {
      "needs_background": "light"
     },
     "output_type": "display_data"
    }
   ],
   "source": [
    "p3=plt.figure()\n",
    "sns.FacetGrid(df, hue=\"deposit\", size=5) \\\n",
    "   .map(sns.distplot, \"age\") \\\n",
    "   .add_legend()\n",
    "plt.title(\"histogram for age\")\n",
    "plt.ylabel(\"density\")\n",
    "p3.savefig(\"p3.png\")\n",
    "plt.show()\n",
    "\n"
   ]
  },
  {
   "cell_type": "markdown",
   "metadata": {},
   "source": [
    "### Observation :\n",
    "1.The people who have rejected the subscription have a mean age of 36-39 with roughly 39% of the data.\n",
    "\n",
    "2.The people who have accepted the subscription have a mean age of 37-39 with roughly 43% of the data."
   ]
  },
  {
   "cell_type": "code",
   "execution_count": 35,
   "metadata": {},
   "outputs": [
    {
     "data": {
      "image/png": "[encoded data removed]",
      "text/plain": [
       "<Figure size 413.25x360 with 1 Axes>"
      ]
     },
     "metadata": {
      "needs_background": "light"
     },
     "output_type": "display_data"
    },
    {
     "data": {
      "text/plain": [
       "<Figure size 432x288 with 0 Axes>"
      ]
     },
     "metadata": {},
     "output_type": "display_data"
    }
   ],
   "source": [
    "\n",
    "sns.FacetGrid(df, hue=\"deposit\", height=5) \\\n",
    "   .map(sns.distplot, \"balance\") \\\n",
    "   .add_legend()\n",
    "plt.title(\"histogram for balance\")\n",
    "plt.ylabel(\"density\")\n",
    "plt.show()\n",
    "p4=plt.figure()\n",
    "p4.savefig(\"p4.png\")"
   ]
  },
  {
   "cell_type": "markdown",
   "metadata": {},
   "source": [
    "### Observation :\n",
    "1.People who have rejected the subscription tend to have a lesser balance close to 0 an is right skewed.\n",
    "\n",
    "2.People who have accepted the subscription have both overlapping in lesser and high balance as they are right skewed."
   ]
  },
  {
   "cell_type": "code",
   "execution_count": 36,
   "metadata": {},
   "outputs": [
    {
     "data": {
      "image/png": "[encoded data removed]",
      "text/plain": [
       "<Figure size 413.25x360 with 1 Axes>"
      ]
     },
     "metadata": {
      "needs_background": "light"
     },
     "output_type": "display_data"
    },
    {
     "data": {
      "text/plain": [
       "<Figure size 432x288 with 0 Axes>"
      ]
     },
     "metadata": {},
     "output_type": "display_data"
    }
   ],
   "source": [
    "\n",
    "sns.FacetGrid(df, hue=\"deposit\", size=5) \\\n",
    "   .map(sns.distplot, \"duration\") \\\n",
    "   .add_legend()\n",
    "plt.title(\"histogram for duration\")\n",
    "plt.ylabel(\"density\")\n",
    "plt.show()\n",
    "p5=plt.figure()\n",
    "p5.savefig('p5.png')\n"
   ]
  },
  {
   "cell_type": "markdown",
   "metadata": {},
   "source": [
    "### Observation :\n",
    "1.Duration being less have a higher rejection rate and is right skewed.\n",
    "\n",
    "2.Duration with slightly greater with 700-1400 seconds have a high acceptance rate."
   ]
  },
  {
   "cell_type": "markdown",
   "metadata": {},
   "source": [
    "#### Countplots for 'deposit' with respect to other categorical columns"
   ]
  },
  {
   "cell_type": "code",
   "execution_count": 37,
   "metadata": {},
   "outputs": [
    {
     "data": {
      "image/png": "[encoded data removed]",
      "text/plain": [
       "<Figure size 432x288 with 1 Axes>"
      ]
     },
     "metadata": {
      "needs_background": "light"
     },
     "output_type": "display_data"
    },
    {
     "data": {
      "text/plain": [
       "<Figure size 432x288 with 0 Axes>"
      ]
     },
     "metadata": {},
     "output_type": "display_data"
    }
   ],
   "source": [
    "sns.countplot(data=df,x=\"deposit\")\n",
    "plt.title(\"Count Plot for target variable deposit\")\n",
    "plt.show()\n",
    "p6=plt.figure()\n",
    "p6.savefig('p6.png')"
   ]
  },
  {
   "cell_type": "markdown",
   "metadata": {},
   "source": [
    "### Observation :\n",
    "1.We find that the data is balanced and requires not sought of Resampling."
   ]
  },
  {
   "cell_type": "code",
   "execution_count": 38,
   "metadata": {
    "scrolled": true
   },
   "outputs": [
    {
     "data": {
      "image/png": "[encoded data removed]",
      "text/plain": [
       "<Figure size 432x288 with 1 Axes>"
      ]
     },
     "metadata": {
      "needs_background": "light"
     },
     "output_type": "display_data"
    },
    {
     "data": {
      "text/plain": [
       "<Figure size 432x288 with 0 Axes>"
      ]
     },
     "metadata": {},
     "output_type": "display_data"
    }
   ],
   "source": [
    "\n",
    "sns.countplot(data=df,x=\"deposit\",hue=\"marital\")\n",
    "plt.title(\"Count plot for Marital status with respect to Deposit\")\n",
    "plt.show()\n",
    "p7=plt.figure()\n",
    "p7.savefig(\"p7.png\")"
   ]
  },
  {
   "cell_type": "markdown",
   "metadata": {},
   "source": [
    "### Observation :\n",
    "1.We find that the data is not differentiable with marital status of a person as they are identical."
   ]
  },
  {
   "cell_type": "code",
   "execution_count": 39,
   "metadata": {},
   "outputs": [
    {
     "data": {
      "image/png": "[encoded data removed]",
      "text/plain": [
       "<Figure size 432x288 with 1 Axes>"
      ]
     },
     "metadata": {
      "needs_background": "light"
     },
     "output_type": "display_data"
    },
    {
     "data": {
      "text/plain": [
       "<Figure size 432x288 with 0 Axes>"
      ]
     },
     "metadata": {},
     "output_type": "display_data"
    }
   ],
   "source": [
    "sns.countplot(data=df,x=\"deposit\",hue=\"default\")\n",
    "plt.title(\"Count plot for credit card holders with respect to deposit\")\n",
    "plt.show()\n",
    "p8=plt.figure()\n",
    "p8.savefig(\"p8.png\")"
   ]
  },
  {
   "cell_type": "markdown",
   "metadata": {},
   "source": [
    "### Observation :\n",
    "1.We can find no differences in credit holders since they have equal distribution."
   ]
  },
  {
   "cell_type": "markdown",
   "metadata": {},
   "source": [
    "#### Density plots for columns."
   ]
  },
  {
   "cell_type": "code",
   "execution_count": 40,
   "metadata": {},
   "outputs": [
    {
     "data": {
      "text/html": [
       "<div>\n",
       "<style scoped>\n",
       "    .dataframe tbody tr th:only-of-type {\n",
       "        vertical-align: middle;\n",
       "    }\n",
       "\n",
       "    .dataframe tbody tr th {\n",
       "        vertical-align: top;\n",
       "    }\n",
       "\n",
       "    .dataframe thead th {\n",
       "        text-align: right;\n",
       "    }\n",
       "</style>\n",
       "<table border=\"1\" class=\"dataframe\">\n",
       "  <thead>\n",
       "    <tr style=\"text-align: right;\">\n",
       "      <th></th>\n",
       "      <th>age</th>\n",
       "      <th>job</th>\n",
       "      <th>marital</th>\n",
       "      <th>education</th>\n",
       "      <th>default</th>\n",
       "      <th>balance</th>\n",
       "      <th>housing</th>\n",
       "      <th>loan</th>\n",
       "      <th>contact</th>\n",
       "      <th>day</th>\n",
       "      <th>month</th>\n",
       "      <th>duration</th>\n",
       "      <th>campaign</th>\n",
       "      <th>pdays</th>\n",
       "      <th>previous</th>\n",
       "      <th>poutcome</th>\n",
       "      <th>deposit</th>\n",
       "    </tr>\n",
       "  </thead>\n",
       "  <tbody>\n",
       "    <tr>\n",
       "      <th>0</th>\n",
       "      <td>59</td>\n",
       "      <td>admin.</td>\n",
       "      <td>married</td>\n",
       "      <td>secondary</td>\n",
       "      <td>no</td>\n",
       "      <td>2343</td>\n",
       "      <td>yes</td>\n",
       "      <td>no</td>\n",
       "      <td>cellular</td>\n",
       "      <td>5</td>\n",
       "      <td>may</td>\n",
       "      <td>1042</td>\n",
       "      <td>1</td>\n",
       "      <td>-1</td>\n",
       "      <td>0</td>\n",
       "      <td>NaN</td>\n",
       "      <td>yes</td>\n",
       "    </tr>\n",
       "    <tr>\n",
       "      <th>1</th>\n",
       "      <td>56</td>\n",
       "      <td>admin.</td>\n",
       "      <td>married</td>\n",
       "      <td>secondary</td>\n",
       "      <td>no</td>\n",
       "      <td>45</td>\n",
       "      <td>no</td>\n",
       "      <td>no</td>\n",
       "      <td>cellular</td>\n",
       "      <td>5</td>\n",
       "      <td>may</td>\n",
       "      <td>1467</td>\n",
       "      <td>1</td>\n",
       "      <td>-1</td>\n",
       "      <td>0</td>\n",
       "      <td>NaN</td>\n",
       "      <td>yes</td>\n",
       "    </tr>\n",
       "    <tr>\n",
       "      <th>2</th>\n",
       "      <td>41</td>\n",
       "      <td>technician</td>\n",
       "      <td>married</td>\n",
       "      <td>secondary</td>\n",
       "      <td>no</td>\n",
       "      <td>1270</td>\n",
       "      <td>yes</td>\n",
       "      <td>no</td>\n",
       "      <td>cellular</td>\n",
       "      <td>5</td>\n",
       "      <td>may</td>\n",
       "      <td>1389</td>\n",
       "      <td>1</td>\n",
       "      <td>-1</td>\n",
       "      <td>0</td>\n",
       "      <td>NaN</td>\n",
       "      <td>yes</td>\n",
       "    </tr>\n",
       "    <tr>\n",
       "      <th>3</th>\n",
       "      <td>55</td>\n",
       "      <td>services</td>\n",
       "      <td>married</td>\n",
       "      <td>secondary</td>\n",
       "      <td>no</td>\n",
       "      <td>2476</td>\n",
       "      <td>yes</td>\n",
       "      <td>no</td>\n",
       "      <td>cellular</td>\n",
       "      <td>5</td>\n",
       "      <td>may</td>\n",
       "      <td>579</td>\n",
       "      <td>1</td>\n",
       "      <td>-1</td>\n",
       "      <td>0</td>\n",
       "      <td>NaN</td>\n",
       "      <td>yes</td>\n",
       "    </tr>\n",
       "    <tr>\n",
       "      <th>4</th>\n",
       "      <td>54</td>\n",
       "      <td>admin.</td>\n",
       "      <td>married</td>\n",
       "      <td>tertiary</td>\n",
       "      <td>no</td>\n",
       "      <td>184</td>\n",
       "      <td>no</td>\n",
       "      <td>no</td>\n",
       "      <td>cellular</td>\n",
       "      <td>5</td>\n",
       "      <td>may</td>\n",
       "      <td>673</td>\n",
       "      <td>2</td>\n",
       "      <td>-1</td>\n",
       "      <td>0</td>\n",
       "      <td>NaN</td>\n",
       "      <td>yes</td>\n",
       "    </tr>\n",
       "  </tbody>\n",
       "</table>\n",
       "</div>"
      ],
      "text/plain": [
       "   age         job  marital  education default  balance housing loan  \\\n",
       "0   59      admin.  married  secondary      no     2343     yes   no   \n",
       "1   56      admin.  married  secondary      no       45      no   no   \n",
       "2   41  technician  married  secondary      no     1270     yes   no   \n",
       "3   55    services  married  secondary      no     2476     yes   no   \n",
       "4   54      admin.  married   tertiary      no      184      no   no   \n",
       "\n",
       "    contact  day month  duration  campaign  pdays  previous poutcome deposit  \n",
       "0  cellular    5   may      1042         1     -1         0      NaN     yes  \n",
       "1  cellular    5   may      1467         1     -1         0      NaN     yes  \n",
       "2  cellular    5   may      1389         1     -1         0      NaN     yes  \n",
       "3  cellular    5   may       579         1     -1         0      NaN     yes  \n",
       "4  cellular    5   may       673         2     -1         0      NaN     yes  "
      ]
     },
     "execution_count": 40,
     "metadata": {},
     "output_type": "execute_result"
    }
   ],
   "source": [
    "df.head()"
   ]
  },
  {
   "cell_type": "code",
   "execution_count": 41,
   "metadata": {},
   "outputs": [
    {
     "data": {
      "image/png": "[encoded data removed]",
      "text/plain": [
       "<Figure size 432x288 with 1 Axes>"
      ]
     },
     "metadata": {
      "needs_background": "light"
     },
     "output_type": "display_data"
    },
    {
     "data": {
      "text/plain": [
       "<Figure size 432x288 with 0 Axes>"
      ]
     },
     "metadata": {},
     "output_type": "display_data"
    }
   ],
   "source": [
    "\n",
    "counts, bin_edges = np.histogram(yesss['age'], bins=10, \n",
    "                                 density = True)\n",
    "pdf = counts/(sum(counts))\n",
    "\n",
    "cdf = np.cumsum(pdf)\n",
    "plt.plot(bin_edges[1:],pdf)\n",
    "plt.plot(bin_edges[1:], cdf)\n",
    "plt.title(\"pdf and cdf for people's Age who accepted \")\n",
    "\n",
    "plt.xlabel(\"age\")\n",
    "plt.ylabel(\"probability\")\n",
    "plt.show()\n",
    "p9=plt.figure()\n",
    "p9.savefig(\"p9.png\")"
   ]
  },
  {
   "cell_type": "markdown",
   "metadata": {},
   "source": [
    "### Observation :\n",
    "1.The probablility density function of people's age has high frequencies ranging from Age 30-39 and has a lot of less frequency age.\n",
    "\n",
    "2.Almost 90% of the people who accpeted have age less than 65. "
   ]
  },
  {
   "cell_type": "code",
   "execution_count": 42,
   "metadata": {},
   "outputs": [
    {
     "data": {
      "image/png": "[encoded data removed]",
      "text/plain": [
       "<Figure size 432x288 with 1 Axes>"
      ]
     },
     "metadata": {
      "needs_background": "light"
     },
     "output_type": "display_data"
    },
    {
     "data": {
      "text/plain": [
       "<Figure size 432x288 with 0 Axes>"
      ]
     },
     "metadata": {},
     "output_type": "display_data"
    }
   ],
   "source": [
    "\n",
    "counts, bin_edges = np.histogram(nooo['age'], bins=10, \n",
    "                                 density = True)\n",
    "pdf = counts/(sum(counts))\n",
    "\n",
    "cdf = np.cumsum(pdf)\n",
    "plt.plot(bin_edges[1:],pdf)\n",
    "plt.plot(bin_edges[1:], cdf)\n",
    "plt.title(\"pdf and cdf for people's Age who did not accept\")\n",
    "\n",
    "plt.xlabel(\"age\")\n",
    "plt.ylabel(\"probability\")\n",
    "plt.show()\n",
    "p10=plt.figure()\n",
    "p10.savefig(\"p10.png\")"
   ]
  },
  {
   "cell_type": "markdown",
   "metadata": {},
   "source": [
    "### Observation :\n",
    "1.People who did not accept had a frequency age of ranging from 39-40.\n",
    "\n",
    "2.90% of the people who did not accept had a age less than 55."
   ]
  },
  {
   "cell_type": "code",
   "execution_count": 43,
   "metadata": {},
   "outputs": [
    {
     "data": {
      "image/png": "[encoded data removed]",
      "text/plain": [
       "<Figure size 432x288 with 1 Axes>"
      ]
     },
     "metadata": {
      "needs_background": "light"
     },
     "output_type": "display_data"
    },
    {
     "data": {
      "text/plain": [
       "<Figure size 432x288 with 0 Axes>"
      ]
     },
     "metadata": {},
     "output_type": "display_data"
    }
   ],
   "source": [
    "\n",
    "counts, bin_edges = np.histogram(yesss['balance'], bins=10, \n",
    "                                 density = True)\n",
    "pdf = counts/(sum(counts))\n",
    "\n",
    "cdf = np.cumsum(pdf)\n",
    "plt.plot(bin_edges[1:],pdf)\n",
    "plt.plot(bin_edges[1:], cdf)\n",
    "plt.title(\"pdf and cdf for people's balance who accepted\")\n",
    "\n",
    "plt.xlabel(\"balance\")\n",
    "plt.ylabel(\"probability\")\n",
    "plt.show();\n",
    "p11=plt.figure()\n",
    "p11.savefig(\"p11.png\")"
   ]
  },
  {
   "cell_type": "markdown",
   "metadata": {},
   "source": [
    "### Observation :\n",
    "1.Almost all the people had the common balance of less thsn 10000.\n",
    "\n",
    "2.90% of the people's balance who did accepted had less than 10000 in their account."
   ]
  },
  {
   "cell_type": "code",
   "execution_count": 44,
   "metadata": {},
   "outputs": [
    {
     "data": {
      "image/png": "[encoded data removed]",
      "text/plain": [
       "<Figure size 432x288 with 1 Axes>"
      ]
     },
     "metadata": {
      "needs_background": "light"
     },
     "output_type": "display_data"
    },
    {
     "data": {
      "text/plain": [
       "<Figure size 432x288 with 0 Axes>"
      ]
     },
     "metadata": {},
     "output_type": "display_data"
    }
   ],
   "source": [
    "\n",
    "counts, bin_edges = np.histogram(nooo['balance'], bins=10, \n",
    "                                 density = True)\n",
    "pdf = counts/(sum(counts))\n",
    "\n",
    "cdf = np.cumsum(pdf)\n",
    "plt.plot(bin_edges[1:],pdf)\n",
    "plt.plot(bin_edges[1:], cdf)\n",
    "plt.title(\"pdf and cdf for people's balance who did not accept\")\n",
    "\n",
    "plt.xlabel(\"age\")\n",
    "plt.ylabel(\"probability\")\n",
    "plt.show();\n",
    "p12=plt.figure()\n",
    "p12.savefig(\"p12.png\")"
   ]
  },
  {
   "cell_type": "markdown",
   "metadata": {},
   "source": [
    "### Observation :\n",
    "1.Most people had their balance as 0 who did not accept.\n",
    "\n",
    "2.90% of people had less than 5000 in their balance."
   ]
  },
  {
   "cell_type": "code",
   "execution_count": 45,
   "metadata": {},
   "outputs": [
    {
     "data": {
      "image/png": "[encoded data removed]",
      "text/plain": [
       "<Figure size 432x288 with 1 Axes>"
      ]
     },
     "metadata": {
      "needs_background": "light"
     },
     "output_type": "display_data"
    },
    {
     "data": {
      "text/plain": [
       "<Figure size 432x288 with 0 Axes>"
      ]
     },
     "metadata": {},
     "output_type": "display_data"
    }
   ],
   "source": [
    "\n",
    "counts, bin_edges = np.histogram(yesss['duration'], bins=10, \n",
    "                                 density = True)\n",
    "pdf = counts/(sum(counts))\n",
    "\n",
    "cdf = np.cumsum(pdf)\n",
    "plt.plot(bin_edges[1:],pdf)\n",
    "plt.plot(bin_edges[1:], cdf)\n",
    "plt.title(\"pdf and cdf for people'duration  who accepted\")\n",
    "\n",
    "plt.xlabel(\"duration\")\n",
    "plt.ylabel(\"probability\")\n",
    "plt.show();\n",
    "p13=plt.figure()\n",
    "p13.savefig(\"p13.png\")"
   ]
  },
  {
   "cell_type": "markdown",
   "metadata": {},
   "source": [
    "### observation :\n",
    "1.most of the people had a spoken for less thsn 1500 seconds.\n",
    "\n",
    "2.90% of the people's duration with the bank employees had less than 1000 seconds."
   ]
  },
  {
   "cell_type": "code",
   "execution_count": 46,
   "metadata": {},
   "outputs": [
    {
     "data": {
      "image/png": "[encoded data removed]",
      "text/plain": [
       "<Figure size 432x288 with 1 Axes>"
      ]
     },
     "metadata": {
      "needs_background": "light"
     },
     "output_type": "display_data"
    },
    {
     "data": {
      "text/plain": [
       "<Figure size 432x288 with 0 Axes>"
      ]
     },
     "metadata": {},
     "output_type": "display_data"
    }
   ],
   "source": [
    "\n",
    "counts, bin_edges = np.histogram(nooo['duration'], bins=10, \n",
    "                                 density = True)\n",
    "pdf = counts/(sum(counts))\n",
    "\n",
    "cdf = np.cumsum(pdf)\n",
    "plt.plot(bin_edges[1:],pdf)\n",
    "plt.plot(bin_edges[1:], cdf)\n",
    "plt.title(\"pdf and cdf for people's duration who did not accepted\")\n",
    "\n",
    "plt.xlabel(\"duration\")\n",
    "plt.ylabel(\"probability\")\n",
    "plt.show();\n",
    "p14=plt.figure()\n",
    "p14.savefig(\"p14.png\")"
   ]
  },
  {
   "cell_type": "markdown",
   "metadata": {},
   "source": [
    "### Observation :\n",
    "1.people had a frequency value of less than 500 who rejected.\n",
    "\n",
    "2.90% of the people had less than 500 seconds duration."
   ]
  },
  {
   "cell_type": "markdown",
   "metadata": {},
   "source": [
    "#### Univariate Analysis over columns."
   ]
  },
  {
   "cell_type": "code",
   "execution_count": 47,
   "metadata": {},
   "outputs": [
    {
     "data": {
      "image/png": "[encoded data removed]",
      "text/plain": [
       "<Figure size 432x288 with 1 Axes>"
      ]
     },
     "metadata": {
      "needs_background": "light"
     },
     "output_type": "display_data"
    },
    {
     "data": {
      "text/plain": [
       "<Figure size 432x288 with 0 Axes>"
      ]
     },
     "metadata": {},
     "output_type": "display_data"
    }
   ],
   "source": [
    "sns.boxplot(x=\"deposit\", y=\"balance\", data=df)\n",
    "plt.title(\"box plot for people who accepted or not depending upon their balance\")\n",
    "plt.show()\n",
    "p15=plt.figure()\n",
    "p15.savefig(\"p15.png\")"
   ]
  },
  {
   "cell_type": "markdown",
   "metadata": {},
   "source": [
    "### Obervation :\n",
    "1.There is a less differentiation between yes and no,as they have lesser balance and some outliers in both cases."
   ]
  },
  {
   "cell_type": "code",
   "execution_count": 48,
   "metadata": {},
   "outputs": [
    {
     "data": {
      "image/png": "[encoded data removed]",
      "text/plain": [
       "<Figure size 432x288 with 1 Axes>"
      ]
     },
     "metadata": {
      "needs_background": "light"
     },
     "output_type": "display_data"
    },
    {
     "data": {
      "text/plain": [
       "<Figure size 432x288 with 0 Axes>"
      ]
     },
     "metadata": {},
     "output_type": "display_data"
    }
   ],
   "source": [
    "sns.boxplot(x=\"deposit\", y=\"duration\", data=df)\n",
    "plt.title(\"Box plot for people who accepted and not depending upon the duration\")\n",
    "plt.show()\n",
    "p16=plt.figure()\n",
    "p16.savefig(\"p16.png\")"
   ]
  },
  {
   "cell_type": "markdown",
   "metadata": {},
   "source": [
    "### Observation :\n",
    "1.People who accepted had a median of 500 and IQR range from 300-700.\n",
    "\n",
    "2.People who rejected had a IQR range less than 400."
   ]
  },
  {
   "cell_type": "markdown",
   "metadata": {},
   "source": [
    "#### Bar chart representations for categorical columns with respect to total and accept ratio in deposit."
   ]
  },
  {
   "cell_type": "code",
   "execution_count": 49,
   "metadata": {},
   "outputs": [],
   "source": [
    "def stack_plot(df, xtick, col2='deposit', col3='total'):\n",
    "    ind = np.arange(df.shape[0])\n",
    "    \n",
    "    plt.figure(figsize=(20,5))\n",
    "    p1 = plt.bar(ind, df[col3].values)\n",
    "    p2 = plt.bar(ind, df[col2].values)\n",
    "\n",
    "    plt.ylabel('education')\n",
    "    plt.title('subscribed to term deposit or not')\n",
    "    plt.xticks(ind, list(df[xtick].values))\n",
    "    plt.legend((p1[0], p2[0]), ('total', 'accepted'))\n",
    "    plt.show()"
   ]
  },
  {
   "cell_type": "code",
   "execution_count": 50,
   "metadata": {},
   "outputs": [],
   "source": [
    "def univariate_barplots(df, col1, col2='deposit', top=False):\n",
    "    # Count number of zeros in dataframe python: https://stackoverflow.com/a/51540521/4084039\n",
    "    temp = pd.DataFrame(df.groupby(col1)[col2].agg(lambda x: x.eq(\"yes\").sum())).reset_index()\n",
    "\n",
    "    # Pandas dataframe grouby count: https://stackoverflow.com/a/19385591/4084039\n",
    "    temp['total'] = pd.DataFrame(df.groupby(col1)[col2].agg({'total':'count'})).reset_index()['total']\n",
    "    #temp['Avg'] = pd.DataFrame(df.groupby(col1)[col2].agg({'Avg':'mean'})).reset_index()['Avg']\n",
    "    \n",
    "    temp.sort_values(by=['total'],inplace=True, ascending=False)\n",
    "    \n",
    "    if top:\n",
    "        temp = temp[0:top]\n",
    "    \n",
    "    stack_plot(temp, xtick=col1, col2=col2, col3='total')\n",
    "    print(temp.head(5))\n",
    "    print(\"=\"*50)\n",
    "    print(temp.tail(5))"
   ]
  },
  {
   "cell_type": "code",
   "execution_count": 51,
   "metadata": {},
   "outputs": [
    {
     "data": {
      "image/png": "[encoded data removed]",
      "text/plain": [
       "<Figure size 1440x360 with 1 Axes>"
      ]
     },
     "metadata": {
      "needs_background": "light"
     },
     "output_type": "display_data"
    },
    {
     "name": "stdout",
     "output_type": "stream",
     "text": [
      "   education  deposit  total\n",
      "1  secondary     2627   5830\n",
      "2   tertiary     2067   3823\n",
      "0    primary      595   1509\n",
      "==================================================\n",
      "   education  deposit  total\n",
      "1  secondary     2627   5830\n",
      "2   tertiary     2067   3823\n",
      "0    primary      595   1509\n"
     ]
    },
    {
     "data": {
      "text/plain": [
       "<Figure size 432x288 with 0 Axes>"
      ]
     },
     "metadata": {},
     "output_type": "display_data"
    }
   ],
   "source": [
    "univariate_barplots(df, 'education', 'deposit', False)\n",
    "p17=plt.figure()\n",
    "p17.savefig(\"p17.png\")"
   ]
  },
  {
   "cell_type": "markdown",
   "metadata": {},
   "source": [
    "### Observation :\n",
    "1.Nearly half of the people accepted who had secondary as their education.\n",
    "\n",
    "2.70% of the people had accepted who had tertiary as their education."
   ]
  },
  {
   "cell_type": "code",
   "execution_count": 52,
   "metadata": {},
   "outputs": [
    {
     "data": {
      "image/png": "[encoded data removed]",
      "text/plain": [
       "<Figure size 1440x360 with 1 Axes>"
      ]
     },
     "metadata": {
      "needs_background": "light"
     },
     "output_type": "display_data"
    },
    {
     "name": "stdout",
     "output_type": "stream",
     "text": [
      "    marital  deposit  total\n",
      "1   married     2755   6351\n",
      "2    single     1912   3518\n",
      "0  divorced      622   1293\n",
      "==================================================\n",
      "    marital  deposit  total\n",
      "1   married     2755   6351\n",
      "2    single     1912   3518\n",
      "0  divorced      622   1293\n"
     ]
    },
    {
     "data": {
      "text/plain": [
       "<Figure size 432x288 with 0 Axes>"
      ]
     },
     "metadata": {},
     "output_type": "display_data"
    }
   ],
   "source": [
    "univariate_barplots(df, 'marital', 'deposit', False)\n",
    "p18=plt.figure()\n",
    "p18.savefig(\"p18.png\")"
   ]
  },
  {
   "cell_type": "markdown",
   "metadata": {},
   "source": [
    "### Observation :\n",
    "1.There is a equal acceptance and rejection rate for all the people in respect to their marital status.\n",
    "\n",
    "2.Most of the people have been targeted with marital status of married or single. "
   ]
  },
  {
   "cell_type": "code",
   "execution_count": 53,
   "metadata": {},
   "outputs": [
    {
     "data": {
      "image/png": "[encoded data removed]",
      "text/plain": [
       "<Figure size 1440x360 with 1 Axes>"
      ]
     },
     "metadata": {
      "needs_background": "light"
     },
     "output_type": "display_data"
    },
    {
     "name": "stdout",
     "output_type": "stream",
     "text": [
      "           job  deposit  total\n",
      "4   management     1335   2636\n",
      "1  blue-collar      708   1944\n",
      "9   technician      840   1823\n",
      "0       admin.      631   1334\n",
      "7     services      369    923\n",
      "==================================================\n",
      "              job  deposit  total\n",
      "6   self-employed      187    405\n",
      "8         student      269    360\n",
      "10     unemployed      202    357\n",
      "2    entrepreneur      123    328\n",
      "3       housemaid      109    274\n"
     ]
    },
    {
     "data": {
      "text/plain": [
       "<Figure size 432x288 with 0 Axes>"
      ]
     },
     "metadata": {},
     "output_type": "display_data"
    }
   ],
   "source": [
    "univariate_barplots(df, 'job', 'deposit', False)\n",
    "p19=plt.figure()\n",
    "p19.savefig(\"p19.png\")"
   ]
  },
  {
   "cell_type": "markdown",
   "metadata": {},
   "source": [
    "### Observation :\n",
    "1.Management job people where targeted a lot and had higher acceptance people.\n",
    "\n",
    "2.Students and retired people had the highest acceptance rate when compared to others.\n",
    "\n",
    "3.Services had a very low conversion rate."
   ]
  },
  {
   "cell_type": "code",
   "execution_count": 54,
   "metadata": {},
   "outputs": [
    {
     "data": {
      "image/png": "[encoded data removed]",
      "text/plain": [
       "<Figure size 1440x360 with 1 Axes>"
      ]
     },
     "metadata": {
      "needs_background": "light"
     },
     "output_type": "display_data"
    },
    {
     "name": "stdout",
     "output_type": "stream",
     "text": [
      "  housing  deposit  total\n",
      "0      no     3354   5881\n",
      "1     yes     1935   5281\n",
      "==================================================\n",
      "  housing  deposit  total\n",
      "0      no     3354   5881\n",
      "1     yes     1935   5281\n"
     ]
    },
    {
     "data": {
      "text/plain": [
       "<Figure size 432x288 with 0 Axes>"
      ]
     },
     "metadata": {},
     "output_type": "display_data"
    }
   ],
   "source": [
    "univariate_barplots(df, 'housing', 'deposit', False)\n",
    "p20=plt.figure()\n",
    "p20.savefig(\"p20.png\")"
   ]
  },
  {
   "cell_type": "markdown",
   "metadata": {},
   "source": [
    "### Observation :\n",
    "1.people who had a housing load and who did not have are equally balanced and can find no difference."
   ]
  },
  {
   "cell_type": "code",
   "execution_count": 55,
   "metadata": {},
   "outputs": [
    {
     "data": {
      "image/png": "[encoded data removed]",
      "text/plain": [
       "<Figure size 1440x360 with 1 Axes>"
      ]
     },
     "metadata": {
      "needs_background": "light"
     },
     "output_type": "display_data"
    },
    {
     "name": "stdout",
     "output_type": "stream",
     "text": [
      "  loan  deposit  total\n",
      "0   no     4805   9702\n",
      "1  yes      484   1460\n",
      "==================================================\n",
      "  loan  deposit  total\n",
      "0   no     4805   9702\n",
      "1  yes      484   1460\n"
     ]
    },
    {
     "data": {
      "text/plain": [
       "<Figure size 432x288 with 0 Axes>"
      ]
     },
     "metadata": {},
     "output_type": "display_data"
    }
   ],
   "source": [
    "univariate_barplots(df, 'loan', 'deposit', False)\n",
    "p21=plt.figure()\n",
    "p21.savefig(\"p21.png\")"
   ]
  },
  {
   "cell_type": "markdown",
   "metadata": {},
   "source": [
    "### Observation :\n",
    "1.People who did not have a loan are being targeted and almost 10000 people have not had a loann before.\n",
    "\n",
    "2.half of them accepted for term deposit."
   ]
  },
  {
   "cell_type": "code",
   "execution_count": 56,
   "metadata": {},
   "outputs": [
    {
     "data": {
      "image/png": "[encoded data removed]",
      "text/plain": [
       "<Figure size 1440x360 with 1 Axes>"
      ]
     },
     "metadata": {
      "needs_background": "light"
     },
     "output_type": "display_data"
    },
    {
     "name": "stdout",
     "output_type": "stream",
     "text": [
      "     contact  deposit  total\n",
      "0   cellular     4899  10388\n",
      "1  telephone      390    774\n",
      "==================================================\n",
      "     contact  deposit  total\n",
      "0   cellular     4899  10388\n",
      "1  telephone      390    774\n"
     ]
    },
    {
     "data": {
      "text/plain": [
       "<Figure size 432x288 with 0 Axes>"
      ]
     },
     "metadata": {},
     "output_type": "display_data"
    }
   ],
   "source": [
    "univariate_barplots(df, 'contact', 'deposit', False)\n",
    "p22=plt.figure()\n",
    "p22.savefig(\"p22.png\")"
   ]
  },
  {
   "cell_type": "markdown",
   "metadata": {},
   "source": [
    "### Observation :\n",
    "1.people have beedn targeted through cellular and both cellular and telephone have a half acceptance rate."
   ]
  },
  {
   "cell_type": "code",
   "execution_count": 57,
   "metadata": {},
   "outputs": [
    {
     "data": {
      "image/png": "[encoded data removed]",
      "text/plain": [
       "<Figure size 1440x360 with 1 Axes>"
      ]
     },
     "metadata": {
      "needs_background": "light"
     },
     "output_type": "display_data"
    },
    {
     "name": "stdout",
     "output_type": "stream",
     "text": [
      "  default  deposit  total\n",
      "0      no     5237  10994\n",
      "1     yes       52    168\n",
      "==================================================\n",
      "  default  deposit  total\n",
      "0      no     5237  10994\n",
      "1     yes       52    168\n"
     ]
    },
    {
     "data": {
      "text/plain": [
       "<Figure size 432x288 with 0 Axes>"
      ]
     },
     "metadata": {},
     "output_type": "display_data"
    }
   ],
   "source": [
    "univariate_barplots(df, 'default', 'deposit', False)\n",
    "p23=plt.figure()\n",
    "p23.savefig(\"p23.png\")"
   ]
  },
  {
   "cell_type": "markdown",
   "metadata": {},
   "source": [
    "### Observation :\n",
    "1.People who didnot pursue a credit card by default are being targeted and and have a half acceptance rate.\n",
    "\n",
    "2.The data is imbalanced in the default column."
   ]
  },
  {
   "cell_type": "code",
   "execution_count": 58,
   "metadata": {},
   "outputs": [
    {
     "data": {
      "image/png": "[encoded data removed]",
      "text/plain": [
       "<Figure size 1440x360 with 1 Axes>"
      ]
     },
     "metadata": {
      "needs_background": "light"
     },
     "output_type": "display_data"
    },
    {
     "name": "stdout",
     "output_type": "stream",
     "text": [
      "  month  deposit  total\n",
      "8   may      925   2824\n",
      "1   aug      688   1519\n",
      "5   jul      627   1514\n",
      "6   jun      546   1222\n",
      "9   nov      403    943\n",
      "==================================================\n",
      "   month  deposit  total\n",
      "10   oct      323    392\n",
      "4    jan      142    344\n",
      "11   sep      269    319\n",
      "7    mar      248    276\n",
      "2    dec      100    110\n"
     ]
    },
    {
     "data": {
      "text/plain": [
       "<Figure size 432x288 with 0 Axes>"
      ]
     },
     "metadata": {},
     "output_type": "display_data"
    }
   ],
   "source": [
    "univariate_barplots(df, 'month', 'deposit', False)\n",
    "p24=plt.figure()\n",
    "p24.savefig(\"p24.png\")"
   ]
  },
  {
   "cell_type": "markdown",
   "metadata": {},
   "source": [
    "### Observation :\n",
    "1.Highest acceptance is from may,august months.\n",
    "\n",
    "2.high conversion rate is from october,september,march,december."
   ]
  },
  {
   "cell_type": "code",
   "execution_count": 59,
   "metadata": {},
   "outputs": [],
   "source": [
    "df.drop(['poutcome'],axis=1,inplace=True)"
   ]
  },
  {
   "cell_type": "code",
   "execution_count": 60,
   "metadata": {},
   "outputs": [
    {
     "data": {
      "text/html": [
       "<div>\n",
       "<style scoped>\n",
       "    .dataframe tbody tr th:only-of-type {\n",
       "        vertical-align: middle;\n",
       "    }\n",
       "\n",
       "    .dataframe tbody tr th {\n",
       "        vertical-align: top;\n",
       "    }\n",
       "\n",
       "    .dataframe thead th {\n",
       "        text-align: right;\n",
       "    }\n",
       "</style>\n",
       "<table border=\"1\" class=\"dataframe\">\n",
       "  <thead>\n",
       "    <tr style=\"text-align: right;\">\n",
       "      <th></th>\n",
       "      <th>age</th>\n",
       "      <th>job</th>\n",
       "      <th>marital</th>\n",
       "      <th>education</th>\n",
       "      <th>default</th>\n",
       "      <th>balance</th>\n",
       "      <th>housing</th>\n",
       "      <th>loan</th>\n",
       "      <th>contact</th>\n",
       "      <th>day</th>\n",
       "      <th>month</th>\n",
       "      <th>duration</th>\n",
       "      <th>campaign</th>\n",
       "      <th>pdays</th>\n",
       "      <th>previous</th>\n",
       "      <th>deposit</th>\n",
       "    </tr>\n",
       "  </thead>\n",
       "  <tbody>\n",
       "    <tr>\n",
       "      <th>0</th>\n",
       "      <td>59</td>\n",
       "      <td>admin.</td>\n",
       "      <td>married</td>\n",
       "      <td>secondary</td>\n",
       "      <td>no</td>\n",
       "      <td>2343</td>\n",
       "      <td>yes</td>\n",
       "      <td>no</td>\n",
       "      <td>cellular</td>\n",
       "      <td>5</td>\n",
       "      <td>may</td>\n",
       "      <td>1042</td>\n",
       "      <td>1</td>\n",
       "      <td>-1</td>\n",
       "      <td>0</td>\n",
       "      <td>yes</td>\n",
       "    </tr>\n",
       "    <tr>\n",
       "      <th>1</th>\n",
       "      <td>56</td>\n",
       "      <td>admin.</td>\n",
       "      <td>married</td>\n",
       "      <td>secondary</td>\n",
       "      <td>no</td>\n",
       "      <td>45</td>\n",
       "      <td>no</td>\n",
       "      <td>no</td>\n",
       "      <td>cellular</td>\n",
       "      <td>5</td>\n",
       "      <td>may</td>\n",
       "      <td>1467</td>\n",
       "      <td>1</td>\n",
       "      <td>-1</td>\n",
       "      <td>0</td>\n",
       "      <td>yes</td>\n",
       "    </tr>\n",
       "    <tr>\n",
       "      <th>2</th>\n",
       "      <td>41</td>\n",
       "      <td>technician</td>\n",
       "      <td>married</td>\n",
       "      <td>secondary</td>\n",
       "      <td>no</td>\n",
       "      <td>1270</td>\n",
       "      <td>yes</td>\n",
       "      <td>no</td>\n",
       "      <td>cellular</td>\n",
       "      <td>5</td>\n",
       "      <td>may</td>\n",
       "      <td>1389</td>\n",
       "      <td>1</td>\n",
       "      <td>-1</td>\n",
       "      <td>0</td>\n",
       "      <td>yes</td>\n",
       "    </tr>\n",
       "    <tr>\n",
       "      <th>3</th>\n",
       "      <td>55</td>\n",
       "      <td>services</td>\n",
       "      <td>married</td>\n",
       "      <td>secondary</td>\n",
       "      <td>no</td>\n",
       "      <td>2476</td>\n",
       "      <td>yes</td>\n",
       "      <td>no</td>\n",
       "      <td>cellular</td>\n",
       "      <td>5</td>\n",
       "      <td>may</td>\n",
       "      <td>579</td>\n",
       "      <td>1</td>\n",
       "      <td>-1</td>\n",
       "      <td>0</td>\n",
       "      <td>yes</td>\n",
       "    </tr>\n",
       "    <tr>\n",
       "      <th>4</th>\n",
       "      <td>54</td>\n",
       "      <td>admin.</td>\n",
       "      <td>married</td>\n",
       "      <td>tertiary</td>\n",
       "      <td>no</td>\n",
       "      <td>184</td>\n",
       "      <td>no</td>\n",
       "      <td>no</td>\n",
       "      <td>cellular</td>\n",
       "      <td>5</td>\n",
       "      <td>may</td>\n",
       "      <td>673</td>\n",
       "      <td>2</td>\n",
       "      <td>-1</td>\n",
       "      <td>0</td>\n",
       "      <td>yes</td>\n",
       "    </tr>\n",
       "  </tbody>\n",
       "</table>\n",
       "</div>"
      ],
      "text/plain": [
       "   age         job  marital  education default  balance housing loan  \\\n",
       "0   59      admin.  married  secondary      no     2343     yes   no   \n",
       "1   56      admin.  married  secondary      no       45      no   no   \n",
       "2   41  technician  married  secondary      no     1270     yes   no   \n",
       "3   55    services  married  secondary      no     2476     yes   no   \n",
       "4   54      admin.  married   tertiary      no      184      no   no   \n",
       "\n",
       "    contact  day month  duration  campaign  pdays  previous deposit  \n",
       "0  cellular    5   may      1042         1     -1         0     yes  \n",
       "1  cellular    5   may      1467         1     -1         0     yes  \n",
       "2  cellular    5   may      1389         1     -1         0     yes  \n",
       "3  cellular    5   may       579         1     -1         0     yes  \n",
       "4  cellular    5   may       673         2     -1         0     yes  "
      ]
     },
     "execution_count": 60,
     "metadata": {},
     "output_type": "execute_result"
    }
   ],
   "source": [
    "df.head()"
   ]
  },
  {
   "cell_type": "code",
   "execution_count": 61,
   "metadata": {},
   "outputs": [
    {
     "data": {
      "text/html": [
       "<div>\n",
       "<style scoped>\n",
       "    .dataframe tbody tr th:only-of-type {\n",
       "        vertical-align: middle;\n",
       "    }\n",
       "\n",
       "    .dataframe tbody tr th {\n",
       "        vertical-align: top;\n",
       "    }\n",
       "\n",
       "    .dataframe thead th {\n",
       "        text-align: right;\n",
       "    }\n",
       "</style>\n",
       "<table border=\"1\" class=\"dataframe\">\n",
       "  <thead>\n",
       "    <tr style=\"text-align: right;\">\n",
       "      <th></th>\n",
       "      <th>age</th>\n",
       "      <th>balance</th>\n",
       "      <th>day</th>\n",
       "      <th>duration</th>\n",
       "      <th>campaign</th>\n",
       "      <th>pdays</th>\n",
       "      <th>previous</th>\n",
       "    </tr>\n",
       "  </thead>\n",
       "  <tbody>\n",
       "    <tr>\n",
       "      <th>age</th>\n",
       "      <td>1.000000</td>\n",
       "      <td>0.112300</td>\n",
       "      <td>-0.000762</td>\n",
       "      <td>0.000189</td>\n",
       "      <td>-0.005278</td>\n",
       "      <td>0.002774</td>\n",
       "      <td>0.020169</td>\n",
       "    </tr>\n",
       "    <tr>\n",
       "      <th>balance</th>\n",
       "      <td>0.112300</td>\n",
       "      <td>1.000000</td>\n",
       "      <td>0.010467</td>\n",
       "      <td>0.022436</td>\n",
       "      <td>-0.013894</td>\n",
       "      <td>0.017411</td>\n",
       "      <td>0.030805</td>\n",
       "    </tr>\n",
       "    <tr>\n",
       "      <th>day</th>\n",
       "      <td>-0.000762</td>\n",
       "      <td>0.010467</td>\n",
       "      <td>1.000000</td>\n",
       "      <td>-0.018511</td>\n",
       "      <td>0.137007</td>\n",
       "      <td>-0.077232</td>\n",
       "      <td>-0.058981</td>\n",
       "    </tr>\n",
       "    <tr>\n",
       "      <th>duration</th>\n",
       "      <td>0.000189</td>\n",
       "      <td>0.022436</td>\n",
       "      <td>-0.018511</td>\n",
       "      <td>1.000000</td>\n",
       "      <td>-0.041557</td>\n",
       "      <td>-0.027392</td>\n",
       "      <td>-0.026716</td>\n",
       "    </tr>\n",
       "    <tr>\n",
       "      <th>campaign</th>\n",
       "      <td>-0.005278</td>\n",
       "      <td>-0.013894</td>\n",
       "      <td>0.137007</td>\n",
       "      <td>-0.041557</td>\n",
       "      <td>1.000000</td>\n",
       "      <td>-0.102726</td>\n",
       "      <td>-0.049699</td>\n",
       "    </tr>\n",
       "    <tr>\n",
       "      <th>pdays</th>\n",
       "      <td>0.002774</td>\n",
       "      <td>0.017411</td>\n",
       "      <td>-0.077232</td>\n",
       "      <td>-0.027392</td>\n",
       "      <td>-0.102726</td>\n",
       "      <td>1.000000</td>\n",
       "      <td>0.507272</td>\n",
       "    </tr>\n",
       "    <tr>\n",
       "      <th>previous</th>\n",
       "      <td>0.020169</td>\n",
       "      <td>0.030805</td>\n",
       "      <td>-0.058981</td>\n",
       "      <td>-0.026716</td>\n",
       "      <td>-0.049699</td>\n",
       "      <td>0.507272</td>\n",
       "      <td>1.000000</td>\n",
       "    </tr>\n",
       "  </tbody>\n",
       "</table>\n",
       "</div>"
      ],
      "text/plain": [
       "               age   balance       day  duration  campaign     pdays  previous\n",
       "age       1.000000  0.112300 -0.000762  0.000189 -0.005278  0.002774  0.020169\n",
       "balance   0.112300  1.000000  0.010467  0.022436 -0.013894  0.017411  0.030805\n",
       "day      -0.000762  0.010467  1.000000 -0.018511  0.137007 -0.077232 -0.058981\n",
       "duration  0.000189  0.022436 -0.018511  1.000000 -0.041557 -0.027392 -0.026716\n",
       "campaign -0.005278 -0.013894  0.137007 -0.041557  1.000000 -0.102726 -0.049699\n",
       "pdays     0.002774  0.017411 -0.077232 -0.027392 -0.102726  1.000000  0.507272\n",
       "previous  0.020169  0.030805 -0.058981 -0.026716 -0.049699  0.507272  1.000000"
      ]
     },
     "execution_count": 61,
     "metadata": {},
     "output_type": "execute_result"
    }
   ],
   "source": [
    "df.corr()"
   ]
  },
  {
   "cell_type": "code",
   "execution_count": 62,
   "metadata": {},
   "outputs": [
    {
     "data": {
      "text/plain": [
       "no     5873\n",
       "yes    5289\n",
       "Name: deposit, dtype: int64"
      ]
     },
     "execution_count": 62,
     "metadata": {},
     "output_type": "execute_result"
    }
   ],
   "source": [
    "df['deposit'].value_counts()"
   ]
  },
  {
   "cell_type": "code",
   "execution_count": 63,
   "metadata": {},
   "outputs": [
    {
     "data": {
      "text/plain": [
       "0    2343\n",
       "1      45\n",
       "2    1270\n",
       "3    2476\n",
       "4     184\n",
       "Name: balance, dtype: int64"
      ]
     },
     "execution_count": 63,
     "metadata": {},
     "output_type": "execute_result"
    }
   ],
   "source": [
    "dfk=df['balance']\n",
    "dfk.head()    "
   ]
  },
  {
   "cell_type": "code",
   "execution_count": 64,
   "metadata": {},
   "outputs": [],
   "source": [
    "dfk[dfk<0]=0"
   ]
  },
  {
   "cell_type": "code",
   "execution_count": 65,
   "metadata": {},
   "outputs": [
    {
     "data": {
      "text/plain": [
       "0        1462\n",
       "1          39\n",
       "3          35\n",
       "2          34\n",
       "4          29\n",
       "5          27\n",
       "19         20\n",
       "8          19\n",
       "62         18\n",
       "46         17\n",
       "6          17\n",
       "67         17\n",
       "21         17\n",
       "61         17\n",
       "154        16\n",
       "294        16\n",
       "205        16\n",
       "16         16\n",
       "22         16\n",
       "127        15\n",
       "23         15\n",
       "131        15\n",
       "102        15\n",
       "223        15\n",
       "136        15\n",
       "30         15\n",
       "108        15\n",
       "292        15\n",
       "36         14\n",
       "25         14\n",
       "         ... \n",
       "1594        1\n",
       "3643        1\n",
       "5704        1\n",
       "3531        1\n",
       "1458        1\n",
       "1306        1\n",
       "1386        1\n",
       "11528       1\n",
       "1285        1\n",
       "1269        1\n",
       "3316        1\n",
       "3395        1\n",
       "1253        1\n",
       "3300        1\n",
       "3411        1\n",
       "3419        1\n",
       "1245        1\n",
       "15578       1\n",
       "1213        1\n",
       "1394        1\n",
       "1229        1\n",
       "1402        1\n",
       "1410        1\n",
       "7561        1\n",
       "1426        1\n",
       "1434        1\n",
       "7585        1\n",
       "1442        1\n",
       "1450        1\n",
       "1995        1\n",
       "Name: balance, Length: 3381, dtype: int64"
      ]
     },
     "execution_count": 65,
     "metadata": {},
     "output_type": "execute_result"
    }
   ],
   "source": [
    "dfk.value_counts()"
   ]
  },
  {
   "cell_type": "code",
   "execution_count": 66,
   "metadata": {},
   "outputs": [],
   "source": [
    "df['balance']=list(dfk)"
   ]
  },
  {
   "cell_type": "code",
   "execution_count": 67,
   "metadata": {},
   "outputs": [
    {
     "data": {
      "text/plain": [
       "0   -1\n",
       "1   -1\n",
       "2   -1\n",
       "3   -1\n",
       "4   -1\n",
       "Name: pdays, dtype: int64"
      ]
     },
     "execution_count": 67,
     "metadata": {},
     "output_type": "execute_result"
    }
   ],
   "source": [
    "dfp=df['pdays']\n",
    "dfp.head()   "
   ]
  },
  {
   "cell_type": "code",
   "execution_count": 68,
   "metadata": {},
   "outputs": [],
   "source": [
    "dfp[dfp<0]=0"
   ]
  },
  {
   "cell_type": "code",
   "execution_count": 69,
   "metadata": {},
   "outputs": [
    {
     "data": {
      "text/plain": [
       "0      8324\n",
       "92      106\n",
       "182      89\n",
       "91       84\n",
       "181      81\n",
       "183      73\n",
       "184      52\n",
       "94       42\n",
       "93       41\n",
       "95       39\n",
       "87       34\n",
       "90       32\n",
       "98       31\n",
       "185      30\n",
       "187      28\n",
       "96       26\n",
       "97       26\n",
       "189      24\n",
       "188      24\n",
       "105      22\n",
       "99       22\n",
       "179      21\n",
       "175      20\n",
       "186      20\n",
       "180      19\n",
       "370      19\n",
       "196      19\n",
       "88       19\n",
       "89       18\n",
       "195      18\n",
       "       ... \n",
       "481       1\n",
       "449       1\n",
       "425       1\n",
       "395       1\n",
       "403       1\n",
       "435       1\n",
       "20        1\n",
       "444       1\n",
       "428       1\n",
       "420       1\n",
       "404       1\n",
       "268       1\n",
       "228       1\n",
       "108       1\n",
       "68        1\n",
       "44        1\n",
       "36        1\n",
       "12        1\n",
       "459       1\n",
       "4         1\n",
       "771       1\n",
       "683       1\n",
       "603       1\n",
       "595       1\n",
       "587       1\n",
       "579       1\n",
       "515       1\n",
       "491       1\n",
       "475       1\n",
       "651       1\n",
       "Name: pdays, Length: 472, dtype: int64"
      ]
     },
     "execution_count": 69,
     "metadata": {},
     "output_type": "execute_result"
    }
   ],
   "source": [
    "dfp.value_counts()"
   ]
  },
  {
   "cell_type": "code",
   "execution_count": 70,
   "metadata": {},
   "outputs": [],
   "source": [
    "df['pdays']=list(dfp)"
   ]
  },
  {
   "cell_type": "code",
   "execution_count": 71,
   "metadata": {},
   "outputs": [
    {
     "data": {
      "text/plain": [
       "no     5873\n",
       "yes    5289\n",
       "Name: deposit, dtype: int64"
      ]
     },
     "execution_count": 71,
     "metadata": {},
     "output_type": "execute_result"
    }
   ],
   "source": [
    "df['deposit'].value_counts()"
   ]
  },
  {
   "cell_type": "code",
   "execution_count": 72,
   "metadata": {},
   "outputs": [
    {
     "data": {
      "text/html": [
       "<div>\n",
       "<style scoped>\n",
       "    .dataframe tbody tr th:only-of-type {\n",
       "        vertical-align: middle;\n",
       "    }\n",
       "\n",
       "    .dataframe tbody tr th {\n",
       "        vertical-align: top;\n",
       "    }\n",
       "\n",
       "    .dataframe thead th {\n",
       "        text-align: right;\n",
       "    }\n",
       "</style>\n",
       "<table border=\"1\" class=\"dataframe\">\n",
       "  <thead>\n",
       "    <tr style=\"text-align: right;\">\n",
       "      <th></th>\n",
       "      <th>age</th>\n",
       "      <th>job</th>\n",
       "      <th>marital</th>\n",
       "      <th>education</th>\n",
       "      <th>default</th>\n",
       "      <th>balance</th>\n",
       "      <th>housing</th>\n",
       "      <th>loan</th>\n",
       "      <th>contact</th>\n",
       "      <th>day</th>\n",
       "      <th>month</th>\n",
       "      <th>duration</th>\n",
       "      <th>campaign</th>\n",
       "      <th>pdays</th>\n",
       "      <th>previous</th>\n",
       "      <th>deposit</th>\n",
       "    </tr>\n",
       "  </thead>\n",
       "  <tbody>\n",
       "    <tr>\n",
       "      <th>0</th>\n",
       "      <td>59</td>\n",
       "      <td>admin.</td>\n",
       "      <td>married</td>\n",
       "      <td>secondary</td>\n",
       "      <td>no</td>\n",
       "      <td>2343</td>\n",
       "      <td>yes</td>\n",
       "      <td>no</td>\n",
       "      <td>cellular</td>\n",
       "      <td>5</td>\n",
       "      <td>may</td>\n",
       "      <td>1042</td>\n",
       "      <td>1</td>\n",
       "      <td>0</td>\n",
       "      <td>0</td>\n",
       "      <td>yes</td>\n",
       "    </tr>\n",
       "    <tr>\n",
       "      <th>1</th>\n",
       "      <td>56</td>\n",
       "      <td>admin.</td>\n",
       "      <td>married</td>\n",
       "      <td>secondary</td>\n",
       "      <td>no</td>\n",
       "      <td>45</td>\n",
       "      <td>no</td>\n",
       "      <td>no</td>\n",
       "      <td>cellular</td>\n",
       "      <td>5</td>\n",
       "      <td>may</td>\n",
       "      <td>1467</td>\n",
       "      <td>1</td>\n",
       "      <td>0</td>\n",
       "      <td>0</td>\n",
       "      <td>yes</td>\n",
       "    </tr>\n",
       "    <tr>\n",
       "      <th>2</th>\n",
       "      <td>41</td>\n",
       "      <td>technician</td>\n",
       "      <td>married</td>\n",
       "      <td>secondary</td>\n",
       "      <td>no</td>\n",
       "      <td>1270</td>\n",
       "      <td>yes</td>\n",
       "      <td>no</td>\n",
       "      <td>cellular</td>\n",
       "      <td>5</td>\n",
       "      <td>may</td>\n",
       "      <td>1389</td>\n",
       "      <td>1</td>\n",
       "      <td>0</td>\n",
       "      <td>0</td>\n",
       "      <td>yes</td>\n",
       "    </tr>\n",
       "    <tr>\n",
       "      <th>3</th>\n",
       "      <td>55</td>\n",
       "      <td>services</td>\n",
       "      <td>married</td>\n",
       "      <td>secondary</td>\n",
       "      <td>no</td>\n",
       "      <td>2476</td>\n",
       "      <td>yes</td>\n",
       "      <td>no</td>\n",
       "      <td>cellular</td>\n",
       "      <td>5</td>\n",
       "      <td>may</td>\n",
       "      <td>579</td>\n",
       "      <td>1</td>\n",
       "      <td>0</td>\n",
       "      <td>0</td>\n",
       "      <td>yes</td>\n",
       "    </tr>\n",
       "    <tr>\n",
       "      <th>4</th>\n",
       "      <td>54</td>\n",
       "      <td>admin.</td>\n",
       "      <td>married</td>\n",
       "      <td>tertiary</td>\n",
       "      <td>no</td>\n",
       "      <td>184</td>\n",
       "      <td>no</td>\n",
       "      <td>no</td>\n",
       "      <td>cellular</td>\n",
       "      <td>5</td>\n",
       "      <td>may</td>\n",
       "      <td>673</td>\n",
       "      <td>2</td>\n",
       "      <td>0</td>\n",
       "      <td>0</td>\n",
       "      <td>yes</td>\n",
       "    </tr>\n",
       "  </tbody>\n",
       "</table>\n",
       "</div>"
      ],
      "text/plain": [
       "   age         job  marital  education default  balance housing loan  \\\n",
       "0   59      admin.  married  secondary      no     2343     yes   no   \n",
       "1   56      admin.  married  secondary      no       45      no   no   \n",
       "2   41  technician  married  secondary      no     1270     yes   no   \n",
       "3   55    services  married  secondary      no     2476     yes   no   \n",
       "4   54      admin.  married   tertiary      no      184      no   no   \n",
       "\n",
       "    contact  day month  duration  campaign  pdays  previous deposit  \n",
       "0  cellular    5   may      1042         1      0         0     yes  \n",
       "1  cellular    5   may      1467         1      0         0     yes  \n",
       "2  cellular    5   may      1389         1      0         0     yes  \n",
       "3  cellular    5   may       579         1      0         0     yes  \n",
       "4  cellular    5   may       673         2      0         0     yes  "
      ]
     },
     "execution_count": 72,
     "metadata": {},
     "output_type": "execute_result"
    }
   ],
   "source": [
    "df.head()"
   ]
  },
  {
   "cell_type": "code",
   "execution_count": 73,
   "metadata": {},
   "outputs": [
    {
     "data": {
      "text/plain": [
       "0        1462\n",
       "1          39\n",
       "3          35\n",
       "2          34\n",
       "4          29\n",
       "5          27\n",
       "19         20\n",
       "8          19\n",
       "62         18\n",
       "46         17\n",
       "6          17\n",
       "67         17\n",
       "21         17\n",
       "61         17\n",
       "154        16\n",
       "294        16\n",
       "205        16\n",
       "16         16\n",
       "22         16\n",
       "127        15\n",
       "23         15\n",
       "131        15\n",
       "102        15\n",
       "223        15\n",
       "136        15\n",
       "30         15\n",
       "108        15\n",
       "292        15\n",
       "36         14\n",
       "25         14\n",
       "         ... \n",
       "1594        1\n",
       "3643        1\n",
       "5704        1\n",
       "3531        1\n",
       "1458        1\n",
       "1306        1\n",
       "1386        1\n",
       "11528       1\n",
       "1285        1\n",
       "1269        1\n",
       "3316        1\n",
       "3395        1\n",
       "1253        1\n",
       "3300        1\n",
       "3411        1\n",
       "3419        1\n",
       "1245        1\n",
       "15578       1\n",
       "1213        1\n",
       "1394        1\n",
       "1229        1\n",
       "1402        1\n",
       "1410        1\n",
       "7561        1\n",
       "1426        1\n",
       "1434        1\n",
       "7585        1\n",
       "1442        1\n",
       "1450        1\n",
       "1995        1\n",
       "Name: balance, Length: 3381, dtype: int64"
      ]
     },
     "execution_count": 73,
     "metadata": {},
     "output_type": "execute_result"
    }
   ],
   "source": [
    "df['balance'].value_counts()"
   ]
  },
  {
   "cell_type": "markdown",
   "metadata": {},
   "source": [
    "#### Label Encoding."
   ]
  },
  {
   "cell_type": "code",
   "execution_count": 74,
   "metadata": {},
   "outputs": [],
   "source": [
    "from sklearn.preprocessing import LabelEncoder\n",
    "lb=LabelEncoder()"
   ]
  },
  {
   "cell_type": "code",
   "execution_count": 75,
   "metadata": {},
   "outputs": [],
   "source": [
    "x=df.iloc[:,0:15].values\n",
    "y=df.iloc[:,15]"
   ]
  },
  {
   "cell_type": "code",
   "execution_count": 76,
   "metadata": {},
   "outputs": [
    {
     "data": {
      "text/plain": [
       "no     5873\n",
       "yes    5289\n",
       "Name: deposit, dtype: int64"
      ]
     },
     "execution_count": 76,
     "metadata": {},
     "output_type": "execute_result"
    }
   ],
   "source": [
    "y.value_counts()"
   ]
  },
  {
   "cell_type": "code",
   "execution_count": 77,
   "metadata": {},
   "outputs": [
    {
     "data": {
      "text/plain": [
       "(11162,)"
      ]
     },
     "execution_count": 77,
     "metadata": {},
     "output_type": "execute_result"
    }
   ],
   "source": [
    "y=lb.fit_transform(y)\n",
    "y.shape"
   ]
  },
  {
   "cell_type": "code",
   "execution_count": 78,
   "metadata": {},
   "outputs": [],
   "source": [
    "x[:,3]=lb.fit_transform(x[:,3])\n",
    "x[:,4]=lb.fit_transform(x[:,4])\n",
    "x[:,6]=lb.fit_transform(x[:,6])\n",
    "x[:,7]=lb.fit_transform(x[:,7])\n",
    "x[:,8]=lb.fit_transform(x[:,8])\n",
    "x[:,10]=lb.fit_transform(x[:,10])\n"
   ]
  },
  {
   "cell_type": "code",
   "execution_count": 79,
   "metadata": {},
   "outputs": [],
   "source": [
    "x[:,2]=lb.fit_transform(x[:,2])"
   ]
  },
  {
   "cell_type": "code",
   "execution_count": 80,
   "metadata": {},
   "outputs": [
    {
     "data": {
      "text/plain": [
       "(11162, 15)"
      ]
     },
     "execution_count": 80,
     "metadata": {},
     "output_type": "execute_result"
    }
   ],
   "source": [
    "x.shape"
   ]
  },
  {
   "cell_type": "code",
   "execution_count": null,
   "metadata": {},
   "outputs": [],
   "source": []
  },
  {
   "cell_type": "code",
   "execution_count": 81,
   "metadata": {},
   "outputs": [],
   "source": [
    "x[:,1]=lb.fit_transform(x[:,1])"
   ]
  },
  {
   "cell_type": "markdown",
   "metadata": {},
   "source": [
    "#### OneHot Encoding."
   ]
  },
  {
   "cell_type": "code",
   "execution_count": 82,
   "metadata": {},
   "outputs": [],
   "source": [
    "from sklearn.preprocessing import OneHotEncoder\n",
    "oh=OneHotEncoder(categorical_features=[1])"
   ]
  },
  {
   "cell_type": "code",
   "execution_count": 83,
   "metadata": {},
   "outputs": [],
   "source": [
    "x=oh.fit_transform(x).toarray()\n",
    "x=x[:,1:]"
   ]
  },
  {
   "cell_type": "code",
   "execution_count": 84,
   "metadata": {},
   "outputs": [
    {
     "data": {
      "text/plain": [
       "array([[   0.,    0.,    0., ...,    1.,    0.,    0.],\n",
       "       [   0.,    0.,    0., ...,    1.,    0.,    0.],\n",
       "       [   0.,    0.,    0., ...,    1.,    0.,    0.],\n",
       "       ..., \n",
       "       [   0.,    0.,    0., ...,    2.,    0.,    0.],\n",
       "       [   0.,    0.,    0., ...,    2.,  172.,    5.],\n",
       "       [   0.,    0.,    0., ...,    1.,    0.,    0.]])"
      ]
     },
     "execution_count": 84,
     "metadata": {},
     "output_type": "execute_result"
    }
   ],
   "source": [
    "x"
   ]
  },
  {
   "cell_type": "code",
   "execution_count": 85,
   "metadata": {},
   "outputs": [
    {
     "data": {
      "text/plain": [
       "(11162, 24)"
      ]
     },
     "execution_count": 85,
     "metadata": {},
     "output_type": "execute_result"
    }
   ],
   "source": [
    "x.shape"
   ]
  },
  {
   "cell_type": "code",
   "execution_count": 86,
   "metadata": {},
   "outputs": [],
   "source": [
    "oh1=OneHotEncoder(categorical_features=[11])"
   ]
  },
  {
   "cell_type": "code",
   "execution_count": 87,
   "metadata": {},
   "outputs": [],
   "source": [
    "x=oh1.fit_transform(x).toarray()\n",
    "x=x[:,1:]"
   ]
  },
  {
   "cell_type": "code",
   "execution_count": 88,
   "metadata": {},
   "outputs": [
    {
     "data": {
      "text/plain": [
       "(11162, 25)"
      ]
     },
     "execution_count": 88,
     "metadata": {},
     "output_type": "execute_result"
    }
   ],
   "source": [
    "x.shape"
   ]
  },
  {
   "cell_type": "code",
   "execution_count": 89,
   "metadata": {},
   "outputs": [
    {
     "data": {
      "text/plain": [
       "(11162, 25)"
      ]
     },
     "execution_count": 89,
     "metadata": {},
     "output_type": "execute_result"
    }
   ],
   "source": [
    "x.shape"
   ]
  },
  {
   "cell_type": "code",
   "execution_count": 90,
   "metadata": {},
   "outputs": [],
   "source": [
    "df2=pd.DataFrame(y,columns=['deposit'])"
   ]
  },
  {
   "cell_type": "code",
   "execution_count": 91,
   "metadata": {},
   "outputs": [],
   "source": [
    "df1=pd.DataFrame(x,columns=['marital1','marital2','job1','job2','job3','job4','job5','job6','job7','job8','job9','job10','age','education','default','balance','housing','loan','contact','day','month','duration','campaign','pdays','Previous',])"
   ]
  },
  {
   "cell_type": "code",
   "execution_count": 92,
   "metadata": {},
   "outputs": [
    {
     "data": {
      "text/html": [
       "<div>\n",
       "<style scoped>\n",
       "    .dataframe tbody tr th:only-of-type {\n",
       "        vertical-align: middle;\n",
       "    }\n",
       "\n",
       "    .dataframe tbody tr th {\n",
       "        vertical-align: top;\n",
       "    }\n",
       "\n",
       "    .dataframe thead th {\n",
       "        text-align: right;\n",
       "    }\n",
       "</style>\n",
       "<table border=\"1\" class=\"dataframe\">\n",
       "  <thead>\n",
       "    <tr style=\"text-align: right;\">\n",
       "      <th></th>\n",
       "      <th>deposit</th>\n",
       "    </tr>\n",
       "  </thead>\n",
       "  <tbody>\n",
       "    <tr>\n",
       "      <th>0</th>\n",
       "      <td>1</td>\n",
       "    </tr>\n",
       "    <tr>\n",
       "      <th>1</th>\n",
       "      <td>1</td>\n",
       "    </tr>\n",
       "    <tr>\n",
       "      <th>2</th>\n",
       "      <td>1</td>\n",
       "    </tr>\n",
       "    <tr>\n",
       "      <th>3</th>\n",
       "      <td>1</td>\n",
       "    </tr>\n",
       "    <tr>\n",
       "      <th>4</th>\n",
       "      <td>1</td>\n",
       "    </tr>\n",
       "  </tbody>\n",
       "</table>\n",
       "</div>"
      ],
      "text/plain": [
       "   deposit\n",
       "0        1\n",
       "1        1\n",
       "2        1\n",
       "3        1\n",
       "4        1"
      ]
     },
     "execution_count": 92,
     "metadata": {},
     "output_type": "execute_result"
    }
   ],
   "source": [
    "df2.head()"
   ]
  },
  {
   "cell_type": "markdown",
   "metadata": {},
   "source": [
    "#### Finding Correlation."
   ]
  },
  {
   "cell_type": "code",
   "execution_count": 93,
   "metadata": {},
   "outputs": [
    {
     "data": {
      "text/html": [
       "<div>\n",
       "<style scoped>\n",
       "    .dataframe tbody tr th:only-of-type {\n",
       "        vertical-align: middle;\n",
       "    }\n",
       "\n",
       "    .dataframe tbody tr th {\n",
       "        vertical-align: top;\n",
       "    }\n",
       "\n",
       "    .dataframe thead th {\n",
       "        text-align: right;\n",
       "    }\n",
       "</style>\n",
       "<table border=\"1\" class=\"dataframe\">\n",
       "  <thead>\n",
       "    <tr style=\"text-align: right;\">\n",
       "      <th></th>\n",
       "      <th>marital1</th>\n",
       "      <th>marital2</th>\n",
       "      <th>job1</th>\n",
       "      <th>job2</th>\n",
       "      <th>job3</th>\n",
       "      <th>job4</th>\n",
       "      <th>job5</th>\n",
       "      <th>job6</th>\n",
       "      <th>job7</th>\n",
       "      <th>job8</th>\n",
       "      <th>...</th>\n",
       "      <th>balance</th>\n",
       "      <th>housing</th>\n",
       "      <th>loan</th>\n",
       "      <th>contact</th>\n",
       "      <th>day</th>\n",
       "      <th>month</th>\n",
       "      <th>duration</th>\n",
       "      <th>campaign</th>\n",
       "      <th>pdays</th>\n",
       "      <th>Previous</th>\n",
       "    </tr>\n",
       "  </thead>\n",
       "  <tbody>\n",
       "    <tr>\n",
       "      <th>marital1</th>\n",
       "      <td>1.000000</td>\n",
       "      <td>-0.779455</td>\n",
       "      <td>0.109188</td>\n",
       "      <td>0.050746</td>\n",
       "      <td>0.039865</td>\n",
       "      <td>-0.009730</td>\n",
       "      <td>0.098276</td>\n",
       "      <td>-0.008164</td>\n",
       "      <td>-0.013907</td>\n",
       "      <td>-0.194390</td>\n",
       "      <td>...</td>\n",
       "      <td>0.026333</td>\n",
       "      <td>0.036305</td>\n",
       "      <td>0.044148</td>\n",
       "      <td>0.060964</td>\n",
       "      <td>0.002832</td>\n",
       "      <td>-0.026565</td>\n",
       "      <td>-0.036179</td>\n",
       "      <td>0.047722</td>\n",
       "      <td>-0.019288</td>\n",
       "      <td>-0.005176</td>\n",
       "    </tr>\n",
       "    <tr>\n",
       "      <th>marital2</th>\n",
       "      <td>-0.779455</td>\n",
       "      <td>1.000000</td>\n",
       "      <td>-0.077645</td>\n",
       "      <td>-0.058665</td>\n",
       "      <td>-0.060264</td>\n",
       "      <td>0.017342</td>\n",
       "      <td>-0.166003</td>\n",
       "      <td>0.016864</td>\n",
       "      <td>0.004966</td>\n",
       "      <td>0.250543</td>\n",
       "      <td>...</td>\n",
       "      <td>-0.016471</td>\n",
       "      <td>-0.043817</td>\n",
       "      <td>-0.065288</td>\n",
       "      <td>-0.058410</td>\n",
       "      <td>-0.003961</td>\n",
       "      <td>0.011419</td>\n",
       "      <td>0.023847</td>\n",
       "      <td>-0.046165</td>\n",
       "      <td>0.031226</td>\n",
       "      <td>0.023817</td>\n",
       "    </tr>\n",
       "    <tr>\n",
       "      <th>job1</th>\n",
       "      <td>0.109188</td>\n",
       "      <td>-0.077645</td>\n",
       "      <td>1.000000</td>\n",
       "      <td>-0.079905</td>\n",
       "      <td>-0.072850</td>\n",
       "      <td>-0.255346</td>\n",
       "      <td>-0.125701</td>\n",
       "      <td>-0.089107</td>\n",
       "      <td>-0.137880</td>\n",
       "      <td>-0.083836</td>\n",
       "      <td>...</td>\n",
       "      <td>-0.045282</td>\n",
       "      <td>0.189848</td>\n",
       "      <td>0.057956</td>\n",
       "      <td>-0.018414</td>\n",
       "      <td>-0.023039</td>\n",
       "      <td>0.073903</td>\n",
       "      <td>0.029986</td>\n",
       "      <td>0.005522</td>\n",
       "      <td>-0.030528</td>\n",
       "      <td>-0.039939</td>\n",
       "    </tr>\n",
       "    <tr>\n",
       "      <th>job2</th>\n",
       "      <td>0.050746</td>\n",
       "      <td>-0.058665</td>\n",
       "      <td>-0.079905</td>\n",
       "      <td>1.000000</td>\n",
       "      <td>-0.027602</td>\n",
       "      <td>-0.096748</td>\n",
       "      <td>-0.047627</td>\n",
       "      <td>-0.033762</td>\n",
       "      <td>-0.052241</td>\n",
       "      <td>-0.031764</td>\n",
       "      <td>...</td>\n",
       "      <td>0.005862</td>\n",
       "      <td>0.011492</td>\n",
       "      <td>0.042631</td>\n",
       "      <td>0.006799</td>\n",
       "      <td>-0.004463</td>\n",
       "      <td>0.025064</td>\n",
       "      <td>-0.000908</td>\n",
       "      <td>0.013883</td>\n",
       "      <td>-0.029682</td>\n",
       "      <td>-0.022470</td>\n",
       "    </tr>\n",
       "    <tr>\n",
       "      <th>job3</th>\n",
       "      <td>0.039865</td>\n",
       "      <td>-0.060264</td>\n",
       "      <td>-0.072850</td>\n",
       "      <td>-0.027602</td>\n",
       "      <td>1.000000</td>\n",
       "      <td>-0.088207</td>\n",
       "      <td>-0.043422</td>\n",
       "      <td>-0.030781</td>\n",
       "      <td>-0.047629</td>\n",
       "      <td>-0.028960</td>\n",
       "      <td>...</td>\n",
       "      <td>-0.008233</td>\n",
       "      <td>-0.062196</td>\n",
       "      <td>-0.027197</td>\n",
       "      <td>0.027349</td>\n",
       "      <td>0.013318</td>\n",
       "      <td>-0.020701</td>\n",
       "      <td>-0.010807</td>\n",
       "      <td>0.010570</td>\n",
       "      <td>-0.025942</td>\n",
       "      <td>-0.022766</td>\n",
       "    </tr>\n",
       "    <tr>\n",
       "      <th>job4</th>\n",
       "      <td>-0.009730</td>\n",
       "      <td>0.017342</td>\n",
       "      <td>-0.255346</td>\n",
       "      <td>-0.096748</td>\n",
       "      <td>-0.088207</td>\n",
       "      <td>1.000000</td>\n",
       "      <td>-0.152197</td>\n",
       "      <td>-0.107890</td>\n",
       "      <td>-0.166945</td>\n",
       "      <td>-0.101508</td>\n",
       "      <td>...</td>\n",
       "      <td>0.046333</td>\n",
       "      <td>-0.072310</td>\n",
       "      <td>-0.051793</td>\n",
       "      <td>-0.037188</td>\n",
       "      <td>0.008277</td>\n",
       "      <td>-0.050219</td>\n",
       "      <td>-0.018162</td>\n",
       "      <td>0.017343</td>\n",
       "      <td>0.016063</td>\n",
       "      <td>0.021019</td>\n",
       "    </tr>\n",
       "    <tr>\n",
       "      <th>job5</th>\n",
       "      <td>0.098276</td>\n",
       "      <td>-0.166003</td>\n",
       "      <td>-0.125701</td>\n",
       "      <td>-0.047627</td>\n",
       "      <td>-0.043422</td>\n",
       "      <td>-0.152197</td>\n",
       "      <td>1.000000</td>\n",
       "      <td>-0.053112</td>\n",
       "      <td>-0.082183</td>\n",
       "      <td>-0.049970</td>\n",
       "      <td>...</td>\n",
       "      <td>0.074755</td>\n",
       "      <td>-0.172708</td>\n",
       "      <td>-0.048794</td>\n",
       "      <td>0.160725</td>\n",
       "      <td>-0.004511</td>\n",
       "      <td>-0.016287</td>\n",
       "      <td>0.014194</td>\n",
       "      <td>-0.037943</td>\n",
       "      <td>0.004073</td>\n",
       "      <td>0.019384</td>\n",
       "    </tr>\n",
       "    <tr>\n",
       "      <th>job6</th>\n",
       "      <td>-0.008164</td>\n",
       "      <td>0.016864</td>\n",
       "      <td>-0.089107</td>\n",
       "      <td>-0.033762</td>\n",
       "      <td>-0.030781</td>\n",
       "      <td>-0.107890</td>\n",
       "      <td>-0.053112</td>\n",
       "      <td>1.000000</td>\n",
       "      <td>-0.058258</td>\n",
       "      <td>-0.035423</td>\n",
       "      <td>...</td>\n",
       "      <td>0.020319</td>\n",
       "      <td>-0.016903</td>\n",
       "      <td>0.004299</td>\n",
       "      <td>0.003614</td>\n",
       "      <td>0.006458</td>\n",
       "      <td>-0.005631</td>\n",
       "      <td>0.013506</td>\n",
       "      <td>0.001776</td>\n",
       "      <td>-0.011239</td>\n",
       "      <td>-0.002338</td>\n",
       "    </tr>\n",
       "    <tr>\n",
       "      <th>job7</th>\n",
       "      <td>-0.013907</td>\n",
       "      <td>0.004966</td>\n",
       "      <td>-0.137880</td>\n",
       "      <td>-0.052241</td>\n",
       "      <td>-0.047629</td>\n",
       "      <td>-0.166945</td>\n",
       "      <td>-0.082183</td>\n",
       "      <td>-0.058258</td>\n",
       "      <td>1.000000</td>\n",
       "      <td>-0.054811</td>\n",
       "      <td>...</td>\n",
       "      <td>-0.041405</td>\n",
       "      <td>0.084247</td>\n",
       "      <td>0.032097</td>\n",
       "      <td>-0.023053</td>\n",
       "      <td>0.002497</td>\n",
       "      <td>0.043784</td>\n",
       "      <td>0.012077</td>\n",
       "      <td>0.007496</td>\n",
       "      <td>0.000710</td>\n",
       "      <td>-0.019366</td>\n",
       "    </tr>\n",
       "    <tr>\n",
       "      <th>job8</th>\n",
       "      <td>-0.194390</td>\n",
       "      <td>0.250543</td>\n",
       "      <td>-0.083836</td>\n",
       "      <td>-0.031764</td>\n",
       "      <td>-0.028960</td>\n",
       "      <td>-0.101508</td>\n",
       "      <td>-0.049970</td>\n",
       "      <td>-0.035423</td>\n",
       "      <td>-0.054811</td>\n",
       "      <td>1.000000</td>\n",
       "      <td>...</td>\n",
       "      <td>-0.002711</td>\n",
       "      <td>-0.121195</td>\n",
       "      <td>-0.069314</td>\n",
       "      <td>0.012050</td>\n",
       "      <td>-0.010472</td>\n",
       "      <td>-0.007857</td>\n",
       "      <td>-0.021732</td>\n",
       "      <td>-0.022735</td>\n",
       "      <td>0.028985</td>\n",
       "      <td>0.037012</td>\n",
       "    </tr>\n",
       "    <tr>\n",
       "      <th>job9</th>\n",
       "      <td>-0.052492</td>\n",
       "      <td>0.059696</td>\n",
       "      <td>-0.202896</td>\n",
       "      <td>-0.076875</td>\n",
       "      <td>-0.070088</td>\n",
       "      <td>-0.245665</td>\n",
       "      <td>-0.120935</td>\n",
       "      <td>-0.085728</td>\n",
       "      <td>-0.132652</td>\n",
       "      <td>-0.080657</td>\n",
       "      <td>...</td>\n",
       "      <td>0.004062</td>\n",
       "      <td>0.006551</td>\n",
       "      <td>0.006864</td>\n",
       "      <td>-0.045232</td>\n",
       "      <td>0.027038</td>\n",
       "      <td>-0.061772</td>\n",
       "      <td>-0.010440</td>\n",
       "      <td>0.021738</td>\n",
       "      <td>-0.016603</td>\n",
       "      <td>0.002035</td>\n",
       "    </tr>\n",
       "    <tr>\n",
       "      <th>job10</th>\n",
       "      <td>-0.017609</td>\n",
       "      <td>0.012584</td>\n",
       "      <td>-0.083474</td>\n",
       "      <td>-0.031627</td>\n",
       "      <td>-0.028835</td>\n",
       "      <td>-0.101070</td>\n",
       "      <td>-0.049754</td>\n",
       "      <td>-0.035270</td>\n",
       "      <td>-0.054575</td>\n",
       "      <td>-0.033183</td>\n",
       "      <td>...</td>\n",
       "      <td>-0.012712</td>\n",
       "      <td>-0.058031</td>\n",
       "      <td>-0.038802</td>\n",
       "      <td>-0.001514</td>\n",
       "      <td>-0.002656</td>\n",
       "      <td>-0.009431</td>\n",
       "      <td>0.026628</td>\n",
       "      <td>-0.024973</td>\n",
       "      <td>0.007773</td>\n",
       "      <td>-0.001605</td>\n",
       "    </tr>\n",
       "    <tr>\n",
       "      <th>age</th>\n",
       "      <td>0.318436</td>\n",
       "      <td>-0.467799</td>\n",
       "      <td>-0.066567</td>\n",
       "      <td>0.024176</td>\n",
       "      <td>0.082739</td>\n",
       "      <td>-0.039086</td>\n",
       "      <td>0.555863</td>\n",
       "      <td>-0.023163</td>\n",
       "      <td>-0.077879</td>\n",
       "      <td>-0.231846</td>\n",
       "      <td>...</td>\n",
       "      <td>0.112477</td>\n",
       "      <td>-0.168700</td>\n",
       "      <td>-0.031418</td>\n",
       "      <td>0.210912</td>\n",
       "      <td>-0.000762</td>\n",
       "      <td>-0.026130</td>\n",
       "      <td>0.000189</td>\n",
       "      <td>-0.005278</td>\n",
       "      <td>0.002674</td>\n",
       "      <td>0.020169</td>\n",
       "    </tr>\n",
       "    <tr>\n",
       "      <th>education</th>\n",
       "      <td>-0.134072</td>\n",
       "      <td>0.163986</td>\n",
       "      <td>-0.375848</td>\n",
       "      <td>0.018507</td>\n",
       "      <td>-0.146471</td>\n",
       "      <td>0.540848</td>\n",
       "      <td>-0.159170</td>\n",
       "      <td>0.093766</td>\n",
       "      <td>-0.109205</td>\n",
       "      <td>-0.009715</td>\n",
       "      <td>...</td>\n",
       "      <td>0.052339</td>\n",
       "      <td>-0.097378</td>\n",
       "      <td>-0.057495</td>\n",
       "      <td>-0.076734</td>\n",
       "      <td>0.013173</td>\n",
       "      <td>-0.062937</td>\n",
       "      <td>-0.013984</td>\n",
       "      <td>-0.011855</td>\n",
       "      <td>0.031885</td>\n",
       "      <td>0.033702</td>\n",
       "    </tr>\n",
       "    <tr>\n",
       "      <th>default</th>\n",
       "      <td>-0.006819</td>\n",
       "      <td>-0.006255</td>\n",
       "      <td>0.022779</td>\n",
       "      <td>0.022060</td>\n",
       "      <td>0.018431</td>\n",
       "      <td>0.000564</td>\n",
       "      <td>-0.019388</td>\n",
       "      <td>0.007493</td>\n",
       "      <td>-0.018413</td>\n",
       "      <td>-0.018402</td>\n",
       "      <td>...</td>\n",
       "      <td>-0.053562</td>\n",
       "      <td>0.011076</td>\n",
       "      <td>0.076434</td>\n",
       "      <td>-0.022157</td>\n",
       "      <td>0.017342</td>\n",
       "      <td>0.000950</td>\n",
       "      <td>-0.009760</td>\n",
       "      <td>0.030975</td>\n",
       "      <td>-0.036187</td>\n",
       "      <td>-0.035273</td>\n",
       "    </tr>\n",
       "    <tr>\n",
       "      <th>balance</th>\n",
       "      <td>0.026333</td>\n",
       "      <td>-0.016471</td>\n",
       "      <td>-0.045282</td>\n",
       "      <td>0.005862</td>\n",
       "      <td>-0.008233</td>\n",
       "      <td>0.046333</td>\n",
       "      <td>0.074755</td>\n",
       "      <td>0.020319</td>\n",
       "      <td>-0.041405</td>\n",
       "      <td>-0.002711</td>\n",
       "      <td>...</td>\n",
       "      <td>1.000000</td>\n",
       "      <td>-0.073636</td>\n",
       "      <td>-0.079848</td>\n",
       "      <td>0.059801</td>\n",
       "      <td>0.011188</td>\n",
       "      <td>0.008068</td>\n",
       "      <td>0.022504</td>\n",
       "      <td>-0.013599</td>\n",
       "      <td>0.016053</td>\n",
       "      <td>0.029612</td>\n",
       "    </tr>\n",
       "    <tr>\n",
       "      <th>housing</th>\n",
       "      <td>0.036305</td>\n",
       "      <td>-0.043817</td>\n",
       "      <td>0.189848</td>\n",
       "      <td>0.011492</td>\n",
       "      <td>-0.062196</td>\n",
       "      <td>-0.072310</td>\n",
       "      <td>-0.172708</td>\n",
       "      <td>-0.016903</td>\n",
       "      <td>0.084247</td>\n",
       "      <td>-0.121195</td>\n",
       "      <td>...</td>\n",
       "      <td>-0.073636</td>\n",
       "      <td>1.000000</td>\n",
       "      <td>0.076761</td>\n",
       "      <td>-0.088433</td>\n",
       "      <td>-0.014770</td>\n",
       "      <td>0.219602</td>\n",
       "      <td>0.035051</td>\n",
       "      <td>0.006660</td>\n",
       "      <td>0.064808</td>\n",
       "      <td>-0.000840</td>\n",
       "    </tr>\n",
       "    <tr>\n",
       "      <th>loan</th>\n",
       "      <td>0.044148</td>\n",
       "      <td>-0.065288</td>\n",
       "      <td>0.057956</td>\n",
       "      <td>0.042631</td>\n",
       "      <td>-0.027197</td>\n",
       "      <td>-0.051793</td>\n",
       "      <td>-0.048794</td>\n",
       "      <td>0.004299</td>\n",
       "      <td>0.032097</td>\n",
       "      <td>-0.069314</td>\n",
       "      <td>...</td>\n",
       "      <td>-0.079848</td>\n",
       "      <td>0.076761</td>\n",
       "      <td>1.000000</td>\n",
       "      <td>-0.020123</td>\n",
       "      <td>0.017269</td>\n",
       "      <td>0.025329</td>\n",
       "      <td>-0.001914</td>\n",
       "      <td>0.034722</td>\n",
       "      <td>-0.030278</td>\n",
       "      <td>-0.022668</td>\n",
       "    </tr>\n",
       "    <tr>\n",
       "      <th>contact</th>\n",
       "      <td>0.060964</td>\n",
       "      <td>-0.058410</td>\n",
       "      <td>-0.018414</td>\n",
       "      <td>0.006799</td>\n",
       "      <td>0.027349</td>\n",
       "      <td>-0.037188</td>\n",
       "      <td>0.160725</td>\n",
       "      <td>0.003614</td>\n",
       "      <td>-0.023053</td>\n",
       "      <td>0.012050</td>\n",
       "      <td>...</td>\n",
       "      <td>0.059801</td>\n",
       "      <td>-0.088433</td>\n",
       "      <td>-0.020123</td>\n",
       "      <td>1.000000</td>\n",
       "      <td>0.014687</td>\n",
       "      <td>0.013703</td>\n",
       "      <td>-0.015966</td>\n",
       "      <td>0.046576</td>\n",
       "      <td>0.006689</td>\n",
       "      <td>0.026405</td>\n",
       "    </tr>\n",
       "    <tr>\n",
       "      <th>day</th>\n",
       "      <td>0.002832</td>\n",
       "      <td>-0.003961</td>\n",
       "      <td>-0.023039</td>\n",
       "      <td>-0.004463</td>\n",
       "      <td>0.013318</td>\n",
       "      <td>0.008277</td>\n",
       "      <td>-0.004511</td>\n",
       "      <td>0.006458</td>\n",
       "      <td>0.002497</td>\n",
       "      <td>-0.010472</td>\n",
       "      <td>...</td>\n",
       "      <td>0.011188</td>\n",
       "      <td>-0.014770</td>\n",
       "      <td>0.017269</td>\n",
       "      <td>0.014687</td>\n",
       "      <td>1.000000</td>\n",
       "      <td>-0.019840</td>\n",
       "      <td>-0.018511</td>\n",
       "      <td>0.137007</td>\n",
       "      <td>-0.077155</td>\n",
       "      <td>-0.058981</td>\n",
       "    </tr>\n",
       "    <tr>\n",
       "      <th>month</th>\n",
       "      <td>-0.026565</td>\n",
       "      <td>0.011419</td>\n",
       "      <td>0.073903</td>\n",
       "      <td>0.025064</td>\n",
       "      <td>-0.020701</td>\n",
       "      <td>-0.050219</td>\n",
       "      <td>-0.016287</td>\n",
       "      <td>-0.005631</td>\n",
       "      <td>0.043784</td>\n",
       "      <td>-0.007857</td>\n",
       "      <td>...</td>\n",
       "      <td>0.008068</td>\n",
       "      <td>0.219602</td>\n",
       "      <td>0.025329</td>\n",
       "      <td>0.013703</td>\n",
       "      <td>-0.019840</td>\n",
       "      <td>1.000000</td>\n",
       "      <td>-0.006482</td>\n",
       "      <td>-0.098123</td>\n",
       "      <td>0.033562</td>\n",
       "      <td>0.029283</td>\n",
       "    </tr>\n",
       "    <tr>\n",
       "      <th>duration</th>\n",
       "      <td>-0.036179</td>\n",
       "      <td>0.023847</td>\n",
       "      <td>0.029986</td>\n",
       "      <td>-0.000908</td>\n",
       "      <td>-0.010807</td>\n",
       "      <td>-0.018162</td>\n",
       "      <td>0.014194</td>\n",
       "      <td>0.013506</td>\n",
       "      <td>0.012077</td>\n",
       "      <td>-0.021732</td>\n",
       "      <td>...</td>\n",
       "      <td>0.022504</td>\n",
       "      <td>0.035051</td>\n",
       "      <td>-0.001914</td>\n",
       "      <td>-0.015966</td>\n",
       "      <td>-0.018511</td>\n",
       "      <td>-0.006482</td>\n",
       "      <td>1.000000</td>\n",
       "      <td>-0.041557</td>\n",
       "      <td>-0.027306</td>\n",
       "      <td>-0.026716</td>\n",
       "    </tr>\n",
       "    <tr>\n",
       "      <th>campaign</th>\n",
       "      <td>0.047722</td>\n",
       "      <td>-0.046165</td>\n",
       "      <td>0.005522</td>\n",
       "      <td>0.013883</td>\n",
       "      <td>0.010570</td>\n",
       "      <td>0.017343</td>\n",
       "      <td>-0.037943</td>\n",
       "      <td>0.001776</td>\n",
       "      <td>0.007496</td>\n",
       "      <td>-0.022735</td>\n",
       "      <td>...</td>\n",
       "      <td>-0.013599</td>\n",
       "      <td>0.006660</td>\n",
       "      <td>0.034722</td>\n",
       "      <td>0.046576</td>\n",
       "      <td>0.137007</td>\n",
       "      <td>-0.098123</td>\n",
       "      <td>-0.041557</td>\n",
       "      <td>1.000000</td>\n",
       "      <td>-0.102538</td>\n",
       "      <td>-0.049699</td>\n",
       "    </tr>\n",
       "    <tr>\n",
       "      <th>pdays</th>\n",
       "      <td>-0.019288</td>\n",
       "      <td>0.031226</td>\n",
       "      <td>-0.030528</td>\n",
       "      <td>-0.029682</td>\n",
       "      <td>-0.025942</td>\n",
       "      <td>0.016063</td>\n",
       "      <td>0.004073</td>\n",
       "      <td>-0.011239</td>\n",
       "      <td>0.000710</td>\n",
       "      <td>0.028985</td>\n",
       "      <td>...</td>\n",
       "      <td>0.016053</td>\n",
       "      <td>0.064808</td>\n",
       "      <td>-0.030278</td>\n",
       "      <td>0.006689</td>\n",
       "      <td>-0.077155</td>\n",
       "      <td>0.033562</td>\n",
       "      <td>-0.027306</td>\n",
       "      <td>-0.102538</td>\n",
       "      <td>1.000000</td>\n",
       "      <td>0.506450</td>\n",
       "    </tr>\n",
       "    <tr>\n",
       "      <th>Previous</th>\n",
       "      <td>-0.005176</td>\n",
       "      <td>0.023817</td>\n",
       "      <td>-0.039939</td>\n",
       "      <td>-0.022470</td>\n",
       "      <td>-0.022766</td>\n",
       "      <td>0.021019</td>\n",
       "      <td>0.019384</td>\n",
       "      <td>-0.002338</td>\n",
       "      <td>-0.019366</td>\n",
       "      <td>0.037012</td>\n",
       "      <td>...</td>\n",
       "      <td>0.029612</td>\n",
       "      <td>-0.000840</td>\n",
       "      <td>-0.022668</td>\n",
       "      <td>0.026405</td>\n",
       "      <td>-0.058981</td>\n",
       "      <td>0.029283</td>\n",
       "      <td>-0.026716</td>\n",
       "      <td>-0.049699</td>\n",
       "      <td>0.506450</td>\n",
       "      <td>1.000000</td>\n",
       "    </tr>\n",
       "  </tbody>\n",
       "</table>\n",
       "<p>25 rows × 25 columns</p>\n",
       "</div>"
      ],
      "text/plain": [
       "           marital1  marital2      job1      job2      job3      job4  \\\n",
       "marital1   1.000000 -0.779455  0.109188  0.050746  0.039865 -0.009730   \n",
       "marital2  -0.779455  1.000000 -0.077645 -0.058665 -0.060264  0.017342   \n",
       "job1       0.109188 -0.077645  1.000000 -0.079905 -0.072850 -0.255346   \n",
       "job2       0.050746 -0.058665 -0.079905  1.000000 -0.027602 -0.096748   \n",
       "job3       0.039865 -0.060264 -0.072850 -0.027602  1.000000 -0.088207   \n",
       "job4      -0.009730  0.017342 -0.255346 -0.096748 -0.088207  1.000000   \n",
       "job5       0.098276 -0.166003 -0.125701 -0.047627 -0.043422 -0.152197   \n",
       "job6      -0.008164  0.016864 -0.089107 -0.033762 -0.030781 -0.107890   \n",
       "job7      -0.013907  0.004966 -0.137880 -0.052241 -0.047629 -0.166945   \n",
       "job8      -0.194390  0.250543 -0.083836 -0.031764 -0.028960 -0.101508   \n",
       "job9      -0.052492  0.059696 -0.202896 -0.076875 -0.070088 -0.245665   \n",
       "job10     -0.017609  0.012584 -0.083474 -0.031627 -0.028835 -0.101070   \n",
       "age        0.318436 -0.467799 -0.066567  0.024176  0.082739 -0.039086   \n",
       "education -0.134072  0.163986 -0.375848  0.018507 -0.146471  0.540848   \n",
       "default   -0.006819 -0.006255  0.022779  0.022060  0.018431  0.000564   \n",
       "balance    0.026333 -0.016471 -0.045282  0.005862 -0.008233  0.046333   \n",
       "housing    0.036305 -0.043817  0.189848  0.011492 -0.062196 -0.072310   \n",
       "loan       0.044148 -0.065288  0.057956  0.042631 -0.027197 -0.051793   \n",
       "contact    0.060964 -0.058410 -0.018414  0.006799  0.027349 -0.037188   \n",
       "day        0.002832 -0.003961 -0.023039 -0.004463  0.013318  0.008277   \n",
       "month     -0.026565  0.011419  0.073903  0.025064 -0.020701 -0.050219   \n",
       "duration  -0.036179  0.023847  0.029986 -0.000908 -0.010807 -0.018162   \n",
       "campaign   0.047722 -0.046165  0.005522  0.013883  0.010570  0.017343   \n",
       "pdays     -0.019288  0.031226 -0.030528 -0.029682 -0.025942  0.016063   \n",
       "Previous  -0.005176  0.023817 -0.039939 -0.022470 -0.022766  0.021019   \n",
       "\n",
       "               job5      job6      job7      job8    ...      balance  \\\n",
       "marital1   0.098276 -0.008164 -0.013907 -0.194390    ...     0.026333   \n",
       "marital2  -0.166003  0.016864  0.004966  0.250543    ...    -0.016471   \n",
       "job1      -0.125701 -0.089107 -0.137880 -0.083836    ...    -0.045282   \n",
       "job2      -0.047627 -0.033762 -0.052241 -0.031764    ...     0.005862   \n",
       "job3      -0.043422 -0.030781 -0.047629 -0.028960    ...    -0.008233   \n",
       "job4      -0.152197 -0.107890 -0.166945 -0.101508    ...     0.046333   \n",
       "job5       1.000000 -0.053112 -0.082183 -0.049970    ...     0.074755   \n",
       "job6      -0.053112  1.000000 -0.058258 -0.035423    ...     0.020319   \n",
       "job7      -0.082183 -0.058258  1.000000 -0.054811    ...    -0.041405   \n",
       "job8      -0.049970 -0.035423 -0.054811  1.000000    ...    -0.002711   \n",
       "job9      -0.120935 -0.085728 -0.132652 -0.080657    ...     0.004062   \n",
       "job10     -0.049754 -0.035270 -0.054575 -0.033183    ...    -0.012712   \n",
       "age        0.555863 -0.023163 -0.077879 -0.231846    ...     0.112477   \n",
       "education -0.159170  0.093766 -0.109205 -0.009715    ...     0.052339   \n",
       "default   -0.019388  0.007493 -0.018413 -0.018402    ...    -0.053562   \n",
       "balance    0.074755  0.020319 -0.041405 -0.002711    ...     1.000000   \n",
       "housing   -0.172708 -0.016903  0.084247 -0.121195    ...    -0.073636   \n",
       "loan      -0.048794  0.004299  0.032097 -0.069314    ...    -0.079848   \n",
       "contact    0.160725  0.003614 -0.023053  0.012050    ...     0.059801   \n",
       "day       -0.004511  0.006458  0.002497 -0.010472    ...     0.011188   \n",
       "month     -0.016287 -0.005631  0.043784 -0.007857    ...     0.008068   \n",
       "duration   0.014194  0.013506  0.012077 -0.021732    ...     0.022504   \n",
       "campaign  -0.037943  0.001776  0.007496 -0.022735    ...    -0.013599   \n",
       "pdays      0.004073 -0.011239  0.000710  0.028985    ...     0.016053   \n",
       "Previous   0.019384 -0.002338 -0.019366  0.037012    ...     0.029612   \n",
       "\n",
       "            housing      loan   contact       day     month  duration  \\\n",
       "marital1   0.036305  0.044148  0.060964  0.002832 -0.026565 -0.036179   \n",
       "marital2  -0.043817 -0.065288 -0.058410 -0.003961  0.011419  0.023847   \n",
       "job1       0.189848  0.057956 -0.018414 -0.023039  0.073903  0.029986   \n",
       "job2       0.011492  0.042631  0.006799 -0.004463  0.025064 -0.000908   \n",
       "job3      -0.062196 -0.027197  0.027349  0.013318 -0.020701 -0.010807   \n",
       "job4      -0.072310 -0.051793 -0.037188  0.008277 -0.050219 -0.018162   \n",
       "job5      -0.172708 -0.048794  0.160725 -0.004511 -0.016287  0.014194   \n",
       "job6      -0.016903  0.004299  0.003614  0.006458 -0.005631  0.013506   \n",
       "job7       0.084247  0.032097 -0.023053  0.002497  0.043784  0.012077   \n",
       "job8      -0.121195 -0.069314  0.012050 -0.010472 -0.007857 -0.021732   \n",
       "job9       0.006551  0.006864 -0.045232  0.027038 -0.061772 -0.010440   \n",
       "job10     -0.058031 -0.038802 -0.001514 -0.002656 -0.009431  0.026628   \n",
       "age       -0.168700 -0.031418  0.210912 -0.000762 -0.026130  0.000189   \n",
       "education -0.097378 -0.057495 -0.076734  0.013173 -0.062937 -0.013984   \n",
       "default    0.011076  0.076434 -0.022157  0.017342  0.000950 -0.009760   \n",
       "balance   -0.073636 -0.079848  0.059801  0.011188  0.008068  0.022504   \n",
       "housing    1.000000  0.076761 -0.088433 -0.014770  0.219602  0.035051   \n",
       "loan       0.076761  1.000000 -0.020123  0.017269  0.025329 -0.001914   \n",
       "contact   -0.088433 -0.020123  1.000000  0.014687  0.013703 -0.015966   \n",
       "day       -0.014770  0.017269  0.014687  1.000000 -0.019840 -0.018511   \n",
       "month      0.219602  0.025329  0.013703 -0.019840  1.000000 -0.006482   \n",
       "duration   0.035051 -0.001914 -0.015966 -0.018511 -0.006482  1.000000   \n",
       "campaign   0.006660  0.034722  0.046576  0.137007 -0.098123 -0.041557   \n",
       "pdays      0.064808 -0.030278  0.006689 -0.077155  0.033562 -0.027306   \n",
       "Previous  -0.000840 -0.022668  0.026405 -0.058981  0.029283 -0.026716   \n",
       "\n",
       "           campaign     pdays  Previous  \n",
       "marital1   0.047722 -0.019288 -0.005176  \n",
       "marital2  -0.046165  0.031226  0.023817  \n",
       "job1       0.005522 -0.030528 -0.039939  \n",
       "job2       0.013883 -0.029682 -0.022470  \n",
       "job3       0.010570 -0.025942 -0.022766  \n",
       "job4       0.017343  0.016063  0.021019  \n",
       "job5      -0.037943  0.004073  0.019384  \n",
       "job6       0.001776 -0.011239 -0.002338  \n",
       "job7       0.007496  0.000710 -0.019366  \n",
       "job8      -0.022735  0.028985  0.037012  \n",
       "job9       0.021738 -0.016603  0.002035  \n",
       "job10     -0.024973  0.007773 -0.001605  \n",
       "age       -0.005278  0.002674  0.020169  \n",
       "education -0.011855  0.031885  0.033702  \n",
       "default    0.030975 -0.036187 -0.035273  \n",
       "balance   -0.013599  0.016053  0.029612  \n",
       "housing    0.006660  0.064808 -0.000840  \n",
       "loan       0.034722 -0.030278 -0.022668  \n",
       "contact    0.046576  0.006689  0.026405  \n",
       "day        0.137007 -0.077155 -0.058981  \n",
       "month     -0.098123  0.033562  0.029283  \n",
       "duration  -0.041557 -0.027306 -0.026716  \n",
       "campaign   1.000000 -0.102538 -0.049699  \n",
       "pdays     -0.102538  1.000000  0.506450  \n",
       "Previous  -0.049699  0.506450  1.000000  \n",
       "\n",
       "[25 rows x 25 columns]"
      ]
     },
     "execution_count": 93,
     "metadata": {},
     "output_type": "execute_result"
    }
   ],
   "source": [
    "df1.corr()"
   ]
  },
  {
   "cell_type": "markdown",
   "metadata": {},
   "source": [
    "#### Feature Selection using Embedded method."
   ]
  },
  {
   "cell_type": "code",
   "execution_count": 94,
   "metadata": {},
   "outputs": [],
   "source": [
    "from sklearn.feature_selection import SelectKBest\n",
    "from sklearn.feature_selection import chi2"
   ]
  },
  {
   "cell_type": "code",
   "execution_count": 95,
   "metadata": {},
   "outputs": [],
   "source": [
    "bf=SelectKBest(score_func=chi2,k=10)\n",
    "fit=bf.fit(df1,df2)"
   ]
  },
  {
   "cell_type": "code",
   "execution_count": 96,
   "metadata": {},
   "outputs": [],
   "source": [
    "dfscore=pd.DataFrame(fit.scores_)\n",
    "dfcolumns=pd.DataFrame(df1.columns)"
   ]
  },
  {
   "cell_type": "code",
   "execution_count": 97,
   "metadata": {},
   "outputs": [],
   "source": [
    "featscore=pd.concat([dfcolumns,dfscore],axis=1)\n",
    "featscore.columns=[\"specs\",\"score\"]"
   ]
  },
  {
   "cell_type": "code",
   "execution_count": 98,
   "metadata": {},
   "outputs": [
    {
     "name": "stdout",
     "output_type": "stream",
     "text": [
      "        specs          score\n",
      "21   duration  738362.340031\n",
      "15    balance  465537.468425\n",
      "23      pdays   57548.254637\n",
      "24   Previous    1377.692852\n",
      "22   campaign     540.843795\n",
      "16    housing     244.474430\n",
      "19        day     160.354675\n",
      "17       loan     118.635404\n",
      "6        job5     111.940341\n",
      "9        job8     107.918053\n",
      "2        job1      93.735234\n",
      "1    marital2      68.453963\n",
      "12        age      46.796396\n",
      "13  education      41.974888\n",
      "0    marital1      40.859643\n",
      "20      month      28.774412\n",
      "8        job7      20.303856\n",
      "14    default      18.193635\n",
      "3        job2      12.852516\n",
      "11      job10      12.116217\n",
      "5        job4      11.242948\n",
      "4        job3       6.352818\n",
      "18    contact       2.800787\n",
      "10       job9       1.247331\n",
      "7        job6       0.238284\n"
     ]
    }
   ],
   "source": [
    "print(featscore.nlargest(25,'score'))"
   ]
  },
  {
   "cell_type": "code",
   "execution_count": 99,
   "metadata": {},
   "outputs": [],
   "source": [
    "df1.drop([\"job1\",\"job2\",\"job3\",\"job4\",\"job5\",\"job6\",\"job7\",\"job8\",\"job9\",\"job10\",'marital1','marital2','default',\"month\",\"age\",\"education\",\"contact\"],axis=1,inplace=True)"
   ]
  },
  {
   "cell_type": "code",
   "execution_count": 100,
   "metadata": {},
   "outputs": [
    {
     "data": {
      "text/html": [
       "<div>\n",
       "<style scoped>\n",
       "    .dataframe tbody tr th:only-of-type {\n",
       "        vertical-align: middle;\n",
       "    }\n",
       "\n",
       "    .dataframe tbody tr th {\n",
       "        vertical-align: top;\n",
       "    }\n",
       "\n",
       "    .dataframe thead th {\n",
       "        text-align: right;\n",
       "    }\n",
       "</style>\n",
       "<table border=\"1\" class=\"dataframe\">\n",
       "  <thead>\n",
       "    <tr style=\"text-align: right;\">\n",
       "      <th></th>\n",
       "      <th>balance</th>\n",
       "      <th>housing</th>\n",
       "      <th>loan</th>\n",
       "      <th>day</th>\n",
       "      <th>duration</th>\n",
       "      <th>campaign</th>\n",
       "      <th>pdays</th>\n",
       "      <th>Previous</th>\n",
       "    </tr>\n",
       "  </thead>\n",
       "  <tbody>\n",
       "    <tr>\n",
       "      <th>0</th>\n",
       "      <td>2343.0</td>\n",
       "      <td>1.0</td>\n",
       "      <td>0.0</td>\n",
       "      <td>5.0</td>\n",
       "      <td>1042.0</td>\n",
       "      <td>1.0</td>\n",
       "      <td>0.0</td>\n",
       "      <td>0.0</td>\n",
       "    </tr>\n",
       "    <tr>\n",
       "      <th>1</th>\n",
       "      <td>45.0</td>\n",
       "      <td>0.0</td>\n",
       "      <td>0.0</td>\n",
       "      <td>5.0</td>\n",
       "      <td>1467.0</td>\n",
       "      <td>1.0</td>\n",
       "      <td>0.0</td>\n",
       "      <td>0.0</td>\n",
       "    </tr>\n",
       "    <tr>\n",
       "      <th>2</th>\n",
       "      <td>1270.0</td>\n",
       "      <td>1.0</td>\n",
       "      <td>0.0</td>\n",
       "      <td>5.0</td>\n",
       "      <td>1389.0</td>\n",
       "      <td>1.0</td>\n",
       "      <td>0.0</td>\n",
       "      <td>0.0</td>\n",
       "    </tr>\n",
       "    <tr>\n",
       "      <th>3</th>\n",
       "      <td>2476.0</td>\n",
       "      <td>1.0</td>\n",
       "      <td>0.0</td>\n",
       "      <td>5.0</td>\n",
       "      <td>579.0</td>\n",
       "      <td>1.0</td>\n",
       "      <td>0.0</td>\n",
       "      <td>0.0</td>\n",
       "    </tr>\n",
       "    <tr>\n",
       "      <th>4</th>\n",
       "      <td>184.0</td>\n",
       "      <td>0.0</td>\n",
       "      <td>0.0</td>\n",
       "      <td>5.0</td>\n",
       "      <td>673.0</td>\n",
       "      <td>2.0</td>\n",
       "      <td>0.0</td>\n",
       "      <td>0.0</td>\n",
       "    </tr>\n",
       "  </tbody>\n",
       "</table>\n",
       "</div>"
      ],
      "text/plain": [
       "   balance  housing  loan  day  duration  campaign  pdays  Previous\n",
       "0   2343.0      1.0   0.0  5.0    1042.0       1.0    0.0       0.0\n",
       "1     45.0      0.0   0.0  5.0    1467.0       1.0    0.0       0.0\n",
       "2   1270.0      1.0   0.0  5.0    1389.0       1.0    0.0       0.0\n",
       "3   2476.0      1.0   0.0  5.0     579.0       1.0    0.0       0.0\n",
       "4    184.0      0.0   0.0  5.0     673.0       2.0    0.0       0.0"
      ]
     },
     "execution_count": 100,
     "metadata": {},
     "output_type": "execute_result"
    }
   ],
   "source": [
    "df1.head()"
   ]
  },
  {
   "cell_type": "code",
   "execution_count": 101,
   "metadata": {},
   "outputs": [
    {
     "data": {
      "text/plain": [
       "balance     False\n",
       "housing     False\n",
       "loan        False\n",
       "day         False\n",
       "duration    False\n",
       "campaign    False\n",
       "pdays       False\n",
       "Previous    False\n",
       "dtype: bool"
      ]
     },
     "execution_count": 101,
     "metadata": {},
     "output_type": "execute_result"
    }
   ],
   "source": [
    "df1.isnull().any()"
   ]
  },
  {
   "cell_type": "code",
   "execution_count": 102,
   "metadata": {},
   "outputs": [
    {
     "data": {
      "text/plain": [
       "0    5873\n",
       "1    5289\n",
       "Name: deposit, dtype: int64"
      ]
     },
     "execution_count": 102,
     "metadata": {},
     "output_type": "execute_result"
    }
   ],
   "source": [
    "df2['deposit'].value_counts()"
   ]
  },
  {
   "cell_type": "code",
   "execution_count": 103,
   "metadata": {},
   "outputs": [
    {
     "data": {
      "text/plain": [
       "False"
      ]
     },
     "execution_count": 103,
     "metadata": {},
     "output_type": "execute_result"
    }
   ],
   "source": [
    "df2['deposit'].isnull().any()"
   ]
  },
  {
   "cell_type": "code",
   "execution_count": 104,
   "metadata": {},
   "outputs": [],
   "source": [
    "export_csv=df1.to_csv(r'l1.csv')"
   ]
  },
  {
   "cell_type": "code",
   "execution_count": 105,
   "metadata": {},
   "outputs": [],
   "source": [
    "export_csv1=df2.to_csv(r'l2.csv')"
   ]
  },
  {
   "cell_type": "code",
   "execution_count": null,
   "metadata": {},
   "outputs": [],
   "source": []
  },
  {
   "cell_type": "markdown",
   "metadata": {},
   "source": [
    "### Analytics is helping the banking industry become smarter in managing the myriad challenges."
   ]
  },
  {
   "cell_type": "markdown",
   "metadata": {},
   "source": [
    "##### Challenges:\n",
    "1. What is the best time to market the product?\n",
    "        The best time to market a customer is at may,October,September,march and december,as they have a higher conversion rate.\n",
    "2. Which is the most effective channel to contact a customer?\n",
    "        Effective channel to contact a customer is through cellular as it has a higher conversion rate."
   ]
  },
  {
   "cell_type": "code",
   "execution_count": 108,
   "metadata": {},
   "outputs": [
    {
     "name": "stdout",
     "output_type": "stream",
     "text": [
      "+---------------------+------------+------------+-----------+------------+\n",
      "|                     | Accuracy   | f1-score   | ROC_AUC   | log_loss   |\n",
      "|---------------------+------------+------------+-----------+------------|\n",
      "| K-NN                | 77.2%      | 75.5%      | 77.1%     | 7.8%       |\n",
      "| Logistic Regression | 77.5%      | 74.1%      | 77.1%     | 7.7%       |\n",
      "| SVM                 | 78.6%      | 77.6%      | 78.7%     | 7.4%       |\n",
      "| Decision Tree       | 72.2%      | 70.5%      | 72.2%     | 9.5%       |\n",
      "| Random-Forest-10    | 77.9%      | 75.7%      | 77.7%     | 7.6%       |\n",
      "| Random-Forest-100   | 78.4%      | 77%        | 77%       | 7.4%       |\n",
      "| Random-Forest-1000  | 78.5%      | 77.3%      | 78.6%     | 7.4%       |\n",
      "+---------------------+------------+------------+-----------+------------+\n"
     ]
    }
   ],
   "source": [
    "from tabulate import tabulate\n",
    "\n",
    "\n",
    "dd = pd.DataFrame({'Accuracy' : ['77.2%', '77.5%', '78.6%', \"72.2%\",'77.9%','78.4%','78.5%'],\n",
    "                   'f1-score' : ['75.5%', '74.1%', '77.6%', '70.5%','75.7%','77%','77.3%'],\n",
    "                  'ROC_AUC' : [\"77.1%\",\"77.1%\",\"78.7%\",\"72.2%\",'77.7%','77%','78.6%'],\n",
    "                  'log_loss' : ['7.8%', '7.7%' , '7.4%',\"9.5%\", '7.6%','7.4%','7.4%']},index=[\"K-NN\",\"Logistic Regression\",\"SVM\",\"Decision Tree\",\"Random-Forest-10\",\"Random-Forest-100\",\"Random-Forest-1000\"])\n",
    "print(tabulate(dd, headers='keys',tablefmt='psql'))"
   ]
  },
  {
   "cell_type": "code",
   "execution_count": null,
   "metadata": {},
   "outputs": [],
   "source": []
  }
 ],
 "metadata": {
  "kernelspec": {
   "display_name": "Python 3",
   "language": "python",
   "name": "python3"
  },
  "language_info": {
   "codemirror_mode": {
    "name": "ipython",
    "version": 3
   },
   "file_extension": ".py",
   "mimetype": "text/x-python",
   "name": "python",
   "nbconvert_exporter": "python",
   "pygments_lexer": "ipython3",
   "version": "3.7.0"
  }
 },
 "nbformat": 4,
 "nbformat_minor": 2
}
